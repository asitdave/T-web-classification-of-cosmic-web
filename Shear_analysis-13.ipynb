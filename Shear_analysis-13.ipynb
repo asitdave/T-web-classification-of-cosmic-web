{
 "cells": [
  {
   "cell_type": "code",
   "execution_count": 1,
   "metadata": {},
   "outputs": [],
   "source": [
    "import numpy as np\n",
    "from tqdm import tqdm\n",
    "import matplotlib.pyplot as plt\n",
    "import concurrent.futures\n",
    "from numba import jit"
   ]
  },
  {
   "cell_type": "code",
   "execution_count": 2,
   "metadata": {},
   "outputs": [],
   "source": [
    "tidal_shear13 = np.load('/vol/calvin/data/adave/Internship/tidal_shear13.npy')"
   ]
  },
  {
   "cell_type": "code",
   "execution_count": 3,
   "metadata": {},
   "outputs": [
    {
     "data": {
      "text/plain": [
       "(512, 512, 512, 3, 3)"
      ]
     },
     "execution_count": 3,
     "metadata": {},
     "output_type": "execute_result"
    }
   ],
   "source": [
    "tidal_shear13.shape"
   ]
  },
  {
   "cell_type": "code",
   "execution_count": 4,
   "metadata": {},
   "outputs": [],
   "source": [
    "# # Reshape tidal_shear to make it a 2D array with shape (512*512*512, 3, 3)\n",
    "# tidal_shear_2d = tidal_shear.reshape(-1, 3, 3)\n",
    "\n",
    "# # Initialize arrays to store eigenvalues and eigenvectors\n",
    "# eigenvalues = np.zeros((512*512*512, 3))\n",
    "# eigenvectors = np.zeros((512*512*512, 3, 3))\n",
    "\n",
    "# # Calculate eigenvalues and eigenvectors using vectorized operations\n",
    "# for idx in tqdm(range(512*512*512)):\n",
    "#     eigenvalues[idx], eigenvectors[idx] = np.linalg.eig(tidal_shear_2d[idx])\n",
    "\n",
    "# # Reshape eigenvalues and eigenvectors back to the original shape\n",
    "# eigenvalues = eigenvalues.reshape(512, 512, 512, 3)\n",
    "# eigenvectors = eigenvectors.reshape(512, 512, 512, 3, 3)\n"
   ]
  },
  {
   "cell_type": "code",
   "execution_count": 5,
   "metadata": {},
   "outputs": [
    {
     "name": "stdout",
     "output_type": "stream",
     "text": [
      "692.397859858349\n"
     ]
    }
   ],
   "source": [
    "# Define the JIT-compiled function\n",
    "@jit(nopython=True)\n",
    "def calculate_eigenvalues_and_vectors(tidal_shear13):\n",
    "    eigenvalues = np.zeros((512, 512, 512, 3))\n",
    "    eigenvectors = np.zeros((512, 512, 512, 3, 3))\n",
    "\n",
    "    for i in range(512):\n",
    "        for j in range(512):\n",
    "            for k in range(512):\n",
    "                eigenvalues[i, j, k], eigenvectors[i, j, k] = np.linalg.eig(tidal_shear13[i, j, k])\n",
    "\n",
    "    return eigenvalues, eigenvectors\n",
    "\n",
    "import time\n",
    "s1 = time.perf_counter()\n",
    "# Call the JIT-compiled function\n",
    "eigenvalues, eigenvectors = calculate_eigenvalues_and_vectors(tidal_shear13)\n",
    "\n",
    "s2 = time.perf_counter()\n",
    "print(s2-s1)"
   ]
  },
  {
   "cell_type": "code",
   "execution_count": 6,
   "metadata": {},
   "outputs": [
    {
     "data": {
      "text/plain": [
       "(512, 512, 512, 3)"
      ]
     },
     "execution_count": 6,
     "metadata": {},
     "output_type": "execute_result"
    }
   ],
   "source": [
    "eigenvalues.shape"
   ]
  },
  {
   "cell_type": "code",
   "execution_count": 7,
   "metadata": {},
   "outputs": [
    {
     "data": {
      "text/plain": [
       "(512, 512, 512, 3, 3)"
      ]
     },
     "execution_count": 7,
     "metadata": {},
     "output_type": "execute_result"
    }
   ],
   "source": [
    "eigenvectors.shape"
   ]
  },
  {
   "cell_type": "code",
   "execution_count": 8,
   "metadata": {},
   "outputs": [],
   "source": [
    "np.save(\"/vol/calvin/data/adave/Internship/eignvals_tidalshear13.npy\", eigenvalues)"
   ]
  },
  {
   "cell_type": "code",
   "execution_count": 9,
   "metadata": {},
   "outputs": [],
   "source": [
    "np.save(\"/vol/calvin/data/adave/Internship/eignvects_tidalshear13.npy\", eigenvectors)"
   ]
  },
  {
   "cell_type": "code",
   "execution_count": 10,
   "metadata": {},
   "outputs": [],
   "source": [
    "def classify_structure(eigenvalues):\n",
    "    num_positive = np.sum(eigenvalues > 0)\n",
    "    num_negative = np.sum(eigenvalues < 0)\n",
    "\n",
    "    if num_positive == 0:\n",
    "        return 0 # \"Void\"\n",
    "    elif num_positive == 1 and num_negative == 2:\n",
    "        return 1 # \"Sheet\"\n",
    "    elif num_positive == 2 and num_negative == 1:\n",
    "        return 2 # \"Filament\"\n",
    "    elif num_positive == 3:\n",
    "        return 3 # \"Cluster\""
   ]
  },
  {
   "cell_type": "code",
   "execution_count": 11,
   "metadata": {},
   "outputs": [
    {
     "name": "stderr",
     "output_type": "stream",
     "text": [
      "100%|██████████| 512/512 [37:53<00:00,  4.44s/it]\n"
     ]
    }
   ],
   "source": [
    "classification_matrix = np.zeros((512, 512, 512))\n",
    "\n",
    "for i in tqdm(range(512)):\n",
    "    for j in range(512):\n",
    "        for k in range(512):\n",
    "            classification_matrix[i, j, k] = classify_structure(eigenvalues[i, j, k])"
   ]
  },
  {
   "cell_type": "code",
   "execution_count": 12,
   "metadata": {},
   "outputs": [],
   "source": [
    "np.save(\"/vol/calvin/data/adave/Internship/Classification_matrix13.npy\", classification_matrix)"
   ]
  },
  {
   "cell_type": "code",
   "execution_count": 13,
   "metadata": {},
   "outputs": [
    {
     "data": {
      "image/png": "[encoded data removed]",
      "text/plain": [
       "<Figure size 900x450 with 1 Axes>"
      ]
     },
     "metadata": {
      "needs_background": "light"
     },
     "output_type": "display_data"
    }
   ],
   "source": [
    "labels = ['Void', 'Sheets', 'Filaments', 'Clusters']\n",
    "\n",
    "plt.figure(figsize=(6,3), dpi=150)\n",
    "plt.title('Classification of structures', fontsize = 12)\n",
    "plt.hist(classification_matrix.flatten(), bins=[-0.5, 0.5, 1.5, 2.5, 3.5], density = True, edgecolor='black', align='mid', color='lightblue')\n",
    "plt.xticks(range(4), labels)\n",
    "plt.show()"
   ]
  },
  {
   "cell_type": "code",
   "execution_count": 17,
   "metadata": {},
   "outputs": [
    {
     "data": {
      "text/plain": [
       "0.5792209729552269"
      ]
     },
     "execution_count": 17,
     "metadata": {},
     "output_type": "execute_result"
    }
   ],
   "source": [
    "# Volume fraction of Sheets at small scales\n",
    "np.sum(classification_matrix == 1) / 512**3"
   ]
  },
  {
   "cell_type": "code",
   "execution_count": 18,
   "metadata": {},
   "outputs": [
    {
     "data": {
      "text/plain": [
       "0.26991845667362213"
      ]
     },
     "execution_count": 18,
     "metadata": {},
     "output_type": "execute_result"
    }
   ],
   "source": [
    "# Volume fraction of Filaments at small scales\n",
    "np.sum(classification_matrix == 2) / np.prod(classification_matrix.shape)"
   ]
  },
  {
   "cell_type": "code",
   "execution_count": 5,
   "metadata": {},
   "outputs": [],
   "source": [
    "c = np.load(\"/vol/calvin/data/adave/Internship/Classification_matrix13.npy\")\n",
    "val = np.load(\"/vol/calvin/data/adave/Internship/eignvals_tidalshear13.npy\")\n",
    "vecs = np.load(\"/vol/calvin/data/adave/Internship/eignvects_tidalshear13.npy\")"
   ]
  },
  {
   "cell_type": "code",
   "execution_count": 6,
   "metadata": {},
   "outputs": [],
   "source": [
    "cx = c.reshape(512**3)\n",
    "vlx = val.reshape(512**3, 3)\n",
    "vcx = vecs.reshape(512**3, 3, 3)"
   ]
  },
  {
   "cell_type": "code",
   "execution_count": 15,
   "metadata": {},
   "outputs": [
    {
     "data": {
      "text/plain": [
       "array([ 0.8593695 , -0.32600393, -1.09772064])"
      ]
     },
     "execution_count": 15,
     "metadata": {},
     "output_type": "execute_result"
    }
   ],
   "source": [
    "vlx[34505]"
   ]
  },
  {
   "cell_type": "code",
   "execution_count": 14,
   "metadata": {},
   "outputs": [
    {
     "data": {
      "text/plain": [
       "1.0"
      ]
     },
     "execution_count": 14,
     "metadata": {},
     "output_type": "execute_result"
    }
   ],
   "source": [
    "cx[34505]"
   ]
  }
 ],
 "metadata": {
  "kernelspec": {
   "display_name": "Python 3 (ipykernel)",
   "language": "python",
   "name": "python3"
  },
  "language_info": {
   "codemirror_mode": {
    "name": "ipython",
    "version": 3
   },
   "file_extension": ".py",
   "mimetype": "text/x-python",
   "name": "python",
   "nbconvert_exporter": "python",
   "pygments_lexer": "ipython3",
   "version": "3.10.12"
  }
 },
 "nbformat": 4,
 "nbformat_minor": 2
}
