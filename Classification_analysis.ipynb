{
 "cells": [
  {
   "cell_type": "code",
   "execution_count": null,
   "id": "809480e6",
   "metadata": {},
   "outputs": [],
   "source": [
    "import numpy as np\n",
    "import matplotlib.pyplot as plt\n",
    "from tqdm import tqdm\n",
    "import pickle\n",
    "import matplotlib.gridspec as gridspec\n",
    "from mpl_toolkits.mplot3d import Axes3D\n",
    "import itertools\n",
    "import yt"
   ]
  },
  {
   "cell_type": "code",
   "execution_count": null,
   "id": "f0cf930b",
   "metadata": {},
   "outputs": [],
   "source": [
    "class_007 = np.load(\"/vol/calvin/data/adave/Internship/Classification_matrix007.npy\")"
   ]
  },
  {
   "cell_type": "code",
   "execution_count": null,
   "id": "d149d034",
   "metadata": {},
   "outputs": [],
   "source": [
    "class_054 = np.load(\"/vol/calvin/data/adave/Internship/Classification_matrix054.npy\")"
   ]
  },
  {
   "cell_type": "code",
   "execution_count": null,
   "id": "3ecc7467",
   "metadata": {},
   "outputs": [],
   "source": [
    "class_076 = np.load(\"/vol/calvin/data/adave/Internship/Classification_matrix076.npy\")"
   ]
  },
  {
   "cell_type": "code",
   "execution_count": null,
   "id": "8974229a",
   "metadata": {},
   "outputs": [],
   "source": [
    "class_116 = np.load(\"/vol/calvin/data/adave/Internship/Classification_matrix116.npy\")"
   ]
  },
  {
   "cell_type": "code",
   "execution_count": null,
   "id": "efeb5917",
   "metadata": {},
   "outputs": [],
   "source": [
    "class_13 = np.load(\"/vol/calvin/data/adave/Internship/Classification_matrix13.npy\")"
   ]
  },
  {
   "cell_type": "code",
   "execution_count": null,
   "id": "543adf9b",
   "metadata": {},
   "outputs": [],
   "source": [
    "class_21 = np.load(\"/vol/calvin/data/adave/Internship/Classification_matrix21.npy\")"
   ]
  },
  {
   "cell_type": "code",
   "execution_count": null,
   "id": "493ba57b",
   "metadata": {},
   "outputs": [],
   "source": [
    "class_35 = np.load(\"/vol/calvin/data/adave/Internship/Classification_matrix35.npy\")"
   ]
  },
  {
   "cell_type": "code",
   "execution_count": null,
   "id": "9d82f67b",
   "metadata": {},
   "outputs": [],
   "source": [
    "class_41 = np.load(\"/vol/calvin/data/adave/Internship/Classification_matrix41.npy\")"
   ]
  },
  {
   "cell_type": "code",
   "execution_count": null,
   "id": "c193d9b9",
   "metadata": {},
   "outputs": [],
   "source": [
    "class_67 = np.load(\"/vol/calvin/data/adave/Internship/Classification_matrix67.npy\")"
   ]
  },
  {
   "cell_type": "code",
   "execution_count": null,
   "id": "78e9b9f7",
   "metadata": {},
   "outputs": [],
   "source": [
    "class_85 = np.load(\"/vol/calvin/data/adave/Internship/Classification_matrix85.npy\")"
   ]
  },
  {
   "cell_type": "code",
   "execution_count": null,
   "id": "7f23ab9e",
   "metadata": {},
   "outputs": [],
   "source": [
    "class_101 = np.load(\"/vol/calvin/data/adave/Internship/Classification_matrix101.npy\")"
   ]
  },
  {
   "cell_type": "code",
   "execution_count": null,
   "id": "fefc94a5",
   "metadata": {},
   "outputs": [],
   "source": [
    "rho007 = np.load(\"/vol/calvin/data/adave/Internship/SmoothDensityField007.npy\")"
   ]
  },
  {
   "cell_type": "code",
   "execution_count": null,
   "id": "c4c3d06d",
   "metadata": {},
   "outputs": [],
   "source": [
    "rho054 = np.load(\"/vol/calvin/data/adave/Internship/SmoothDensityField054.npy\")"
   ]
  },
  {
   "cell_type": "code",
   "execution_count": null,
   "id": "1b2e41c7",
   "metadata": {},
   "outputs": [],
   "source": [
    "rho076 = np.load(\"/vol/calvin/data/adave/Internship/SmoothDensityField076.npy\")"
   ]
  },
  {
   "cell_type": "code",
   "execution_count": null,
   "id": "b4f4b3e1",
   "metadata": {},
   "outputs": [],
   "source": [
    "rho116 = np.load(\"/vol/calvin/data/adave/Internship/SmoothDensityField116.npy\")"
   ]
  },
  {
   "cell_type": "code",
   "execution_count": null,
   "id": "606cdeea",
   "metadata": {},
   "outputs": [],
   "source": [
    "rho13 = np.load(\"/vol/calvin/data/adave/Internship/SmoothDensityField13.npy\")"
   ]
  },
  {
   "cell_type": "code",
   "execution_count": null,
   "id": "92bfb508",
   "metadata": {},
   "outputs": [],
   "source": [
    "rho21 = np.load(\"/vol/calvin/data/adave/Internship/SmoothDensityField21.npy\")"
   ]
  },
  {
   "cell_type": "code",
   "execution_count": null,
   "id": "82695afb",
   "metadata": {},
   "outputs": [],
   "source": [
    "rho35 = np.load(\"/vol/calvin/data/adave/Internship/SmoothDensityField35.npy\")"
   ]
  },
  {
   "cell_type": "code",
   "execution_count": null,
   "id": "933855a4",
   "metadata": {},
   "outputs": [],
   "source": [
    "v_field = np.load(\"/vol/calvin/data/adave/Internship/Velocity_field.npy\")"
   ]
  },
  {
   "cell_type": "code",
   "execution_count": null,
   "id": "88c213e4",
   "metadata": {},
   "outputs": [],
   "source": [
    "pos = np.load(\"/vol/calvin/data/adave/Internship/Particle_position.npy\")"
   ]
  },
  {
   "cell_type": "code",
   "execution_count": null,
   "id": "39fa6814",
   "metadata": {},
   "outputs": [],
   "source": [
    "num_labels = [0, 1, 2, 3]\n",
    "\n",
    "def calculate_volume_fraction(classification_matrix, label):\n",
    "    \"\"\"\n",
    "    Calculate the volume fraction of a --specific label-- in a 3D classification matrix.\n",
    "\n",
    "    Parameters:\n",
    "    - classification_matrix (numpy.ndarray): 3D array containing voxel labels.\n",
    "    - label (int): The label for which the volume fraction is calculated.\n",
    "\n",
    "    Returns:\n",
    "    float: The volume fraction of the specified label in the matrix.\n",
    "    \"\"\"\n",
    "    return np.sum(classification_matrix.flatten() == label) / np.prod(classification_matrix.shape)"
   ]
  },
  {
   "cell_type": "code",
   "execution_count": null,
   "id": "f9b69582",
   "metadata": {},
   "outputs": [],
   "source": [
    "def calculate_volume_fractions(classification_matrix, num_labels):\n",
    "    \"\"\"\n",
    "    Calculate the volume fractions for --multiple labels-- in a 3D classification matrix.\n",
    "\n",
    "    Parameters:\n",
    "    - classification_matrix (numpy.ndarray): 3D array containing voxel labels.\n",
    "    - num_labels (numpy.ndarray or list): Array or list of labels for which volume fractions are calculated.\n",
    "\n",
    "    Returns:\n",
    "    numpy.ndarray: Array of volume fractions corresponding to each label.\n",
    "    \"\"\"\n",
    "    volume_fractions = np.zeros_like(num_labels, dtype=float)\n",
    "\n",
    "    for i, label in enumerate(num_labels):\n",
    "        volume_fractions[i] = calculate_volume_fraction(classification_matrix, label)\n",
    "    \n",
    "    return volume_fractions"
   ]
  },
  {
   "cell_type": "code",
   "execution_count": null,
   "id": "2cba43a7",
   "metadata": {},
   "outputs": [],
   "source": [
    "def multi_scale_analysis(classification_matrix, num_labels, scales):\n",
    "    \"\"\"\n",
    "    Perform multi-scale analysis of volume fractions for specified labels in a 3D classification matrix.\n",
    "\n",
    "    Parameters:\n",
    "    - classification_matrix (numpy.ndarray): 3D array containing voxel labels.\n",
    "    - num_labels (numpy.ndarray or list): Array or list of labels for which volume fractions are calculated.\n",
    "    - scales (list): List of scale factors for subsampling the classification matrix.\n",
    "\n",
    "    Returns:\n",
    "    numpy.ndarray: 2D array where each row corresponds to volume fractions at different scales for each label.\n",
    "    \"\"\"\n",
    "    results = []\n",
    "    for scale in tqdm(scales, desc='Processing scales'):\n",
    "        scaled_matrix = classification_matrix[::scale, ::scale, ::scale]\n",
    "        volume_fractions = calculate_volume_fractions(scaled_matrix, num_labels)\n",
    "        results.append(volume_fractions)\n",
    "        \n",
    "    return np.array(results) "
   ]
  },
  {
   "cell_type": "code",
   "execution_count": null,
   "id": "11bddbe4",
   "metadata": {},
   "outputs": [],
   "source": [
    "labels = ['Void', 'Sheets', 'Filaments', 'Clusters']\n",
    "\n",
    "sm_scales = [0.078, 0.54, 0.76, 1.167, 1.3, 2.1, 3.5, 4.1, 6.7, 8.5, 10.1]\n",
    "classifications = [class_007, class_054, class_076, class_116, class_13, class_21, class_35, class_41, class_67, class_85, class_101]\n",
    "\n",
    "\n",
    "vol_fracs = []\n",
    "\n",
    "for class_i in tqdm(classifications):\n",
    "    vol_frac = calculate_volume_fractions(class_i, num_labels)\n",
    "    vol_fracs.append(vol_frac)"
   ]
  },
  {
   "cell_type": "code",
   "execution_count": null,
   "id": "bf2a8986",
   "metadata": {},
   "outputs": [],
   "source": [
    "vol_fracs = np.array(vol_fracs)\n",
    "vol_fracs.shape"
   ]
  },
  {
   "cell_type": "code",
   "execution_count": null,
   "id": "3d06c70e",
   "metadata": {},
   "outputs": [],
   "source": [
    "plt.figure(figsize = (4,4), dpi = 200)\n",
    "for i in range(len(vol_fracs.T)):\n",
    "    plt.semilogx(sm_scales, vol_fracs[:, i], label = labels[i])\n",
    "\n",
    "plt.axhline(0.43, ls = '--', lw = 1, color = 'black', alpha = 0.4)\n",
    "plt.axhline(0.072, ls = '--', lw = 1, color = 'black', alpha = 0.4)\n",
    "plt.axvline(0.54, ls = '--', lw = 1, color = 'black', alpha = 0.8)\n",
    "plt.text(0.65, 0.2, '$R_s = 0.54~h^{-1}~Mpc$', fontsize = 8)\n",
    "plt.xlabel('$R_s~[h^{-1}~ Mpc] $')\n",
    "plt.ylabel('Volume fraction')\n",
    "plt.tick_params(axis='both',  which='both',  left=True, right=True, top = True, bottom = True, direction = 'in', labelsize = 7)\n",
    "# plt.xticks(fontsize = 10)\n",
    "plt.legend(bbox_to_anchor = (1, 0.6), fontsize = 9, fancybox = True, handlelength = 1)\n",
    "plt.show()"
   ]
  },
  {
   "cell_type": "code",
   "execution_count": null,
   "id": "c992119a",
   "metadata": {},
   "outputs": [],
   "source": [
    "def slice_density_field(density_field, slice_index):\n",
    "    \"\"\"\n",
    "    Extracts a 2D slice from a 3D density field and applies logarithmic transformation.\n",
    "\n",
    "    Parameters:\n",
    "    - density_field (numpy.ndarray): 3D array representing the density field.\n",
    "    - slice_index (int): Index of the slice to be extracted along the z-axis.\n",
    "\n",
    "    Returns:\n",
    "    - numpy.ndarray: 2D array representing the logarithmic transformation of the specified slice.\n",
    "\n",
    "    Notes:\n",
    "    - The logarithmic transformation is applied using the formula np.log10(density_field + 1 + eps),\n",
    "      where eps is a small constant (1e-15) to prevent taking the logarithm of zero.\n",
    "\n",
    "    Example:\n",
    "    >>> density_field = np.random.rand(5, 5, 5)\n",
    "    >>> slice_index = 2\n",
    "    >>> result = slice_density_field(density_field, slice_index)\n",
    "    \"\"\"\n",
    "    eps = 1e-15  # so that log doesn't get a value 0\n",
    "    N = 0\n",
    "\n",
    "    delplot1 = np.log10(density_field + 1 + eps)\n",
    "    d_field = delplot1[:, :, slice_index]\n",
    "    \n",
    "    return d_field"
   ]
  },
  {
   "cell_type": "code",
   "execution_count": null,
   "id": "d3be6e1b",
   "metadata": {},
   "outputs": [],
   "source": [
    "def get_pos(structure, projection, slice_index, classification, grid_size=512, box_size=100):\n",
    "    \n",
    "    \"\"\"\n",
    "    Extracts positions of points in a 2D slice based on the specified structure, projection, and classification.\n",
    "\n",
    "    Parameters:\n",
    "    - structure (str): A string representing the structure type ('v', 's', 'f', 'n').\n",
    "    - projection (str): A string representing the projection type ('xy', 'yx', 'yz', 'zy', 'zx', 'xz').\n",
    "    - slice_index (int): Index of the slice to be extracted.\n",
    "    - classification (numpy.ndarray): 3D array representing the classification of points.\n",
    "    - grid_size (int): Size of the grid in the 3D array (default is 512).\n",
    "    - box_size (int): Size of the box in physical units (default is 100).\n",
    "\n",
    "    Returns:\n",
    "    - numpy.ndarray: 2D array representing the positions of points in the specified slice.\n",
    "\n",
    "    Notes:\n",
    "    - Points are classified into different structures based on the structure parameter.\n",
    "    - The projection parameter determines the orientation of the slice (e.g., 'xy', 'yz', 'zx').\n",
    "    - The classification parameter is a 3D array where points are classified into different structures.\n",
    "    - The positions are returned in physical units, scaled based on the grid size and box size.\n",
    "    - The function prints 'ValueError' if invalid structure or projection is provided.\n",
    "\n",
    "    Example:\n",
    "    >>> structure = 'v'\n",
    "    >>> projection = 'xy'\n",
    "    >>> slice_index = 2\n",
    "    >>> classification = np.random.randint(0, 4, size=(512, 512, 512))\n",
    "    >>> result = get_pos(structure, projection, slice_index, classification)\n",
    "    \"\"\"\n",
    "    \n",
    "    if str(structure)[0].lower() == 'v':\n",
    "\n",
    "        if (str(projection) == 'xy' or 'yx'):\n",
    "            mask_r, mask_c = np.where(classification[:, :, slice_index] == 0)\n",
    "            mask_r = mask_r * box_size / grid_size\n",
    "            mask_c = mask_c * box_size / grid_size\n",
    "            position = np.column_stack((mask_c, mask_r))\n",
    "            return position\n",
    "        \n",
    "        elif (str(projection) == 'yz' or 'zy'):\n",
    "            mask_r, mask_c = np.where(classification[slice_index, :, :] == 0)\n",
    "            mask_r = mask_r * box_size / grid_size\n",
    "            mask_c = mask_c * box_size / grid_size\n",
    "            position = np.column_stack((mask_r, mask_c))\n",
    "            return position\n",
    "        \n",
    "        elif (str(projection) == 'zx' or 'xz'):\n",
    "            mask_r, mask_c = np.where(classification[:, slice_index, :] == 0)\n",
    "            mask_r = mask_r * box_size / grid_size\n",
    "            mask_c = mask_c * box_size / grid_size\n",
    "            position = np.column_stack((mask_r, mask_c))\n",
    "            return position\n",
    "        \n",
    "        else: \n",
    "            print('ValueError')\n",
    "            \n",
    "            \n",
    "    elif str(structure)[0].lower() == 's':\n",
    "        \n",
    "        if (str(projection) == 'xy' or 'yx'):\n",
    "            mask_r, mask_c = np.where(classification[:, :, slice_index] == 1)\n",
    "            mask_r = mask_r * box_size / grid_size\n",
    "            mask_c = mask_c * box_size / grid_size\n",
    "            position = np.column_stack((mask_c, mask_r))\n",
    "            return position\n",
    "        \n",
    "        elif (str(projection) == 'yz' or 'zy'):\n",
    "            mask_r, mask_c = np.where(classification[slice_index, :, :] == 1)\n",
    "            mask_r = mask_r * box_size / grid_size\n",
    "            mask_c = mask_c * box_size / grid_size\n",
    "            position = np.column_stack((mask_r, mask_c))\n",
    "            return position\n",
    "        \n",
    "        elif (str(projection) == 'zx' or 'xz'):\n",
    "            mask_r, mask_c = np.where(classification[:, slice_index, :] == 1)\n",
    "            mask_r = mask_r * box_size / grid_size\n",
    "            mask_c = mask_c * box_size / grid_size\n",
    "            position = np.column_stack((mask_r, mask_c))\n",
    "            return position\n",
    "        \n",
    "        else: \n",
    "            print('ValueError')\n",
    "            \n",
    "            \n",
    "    elif str(structure)[0].lower() == 'f':\n",
    "        \n",
    "        if (str(projection) == 'xy' or 'yx'):\n",
    "            mask_r, mask_c = np.where(classification[:, :, slice_index] == 2)\n",
    "            mask_r = mask_r * box_size / grid_size\n",
    "            mask_c = mask_c * box_size / grid_size\n",
    "            position = np.column_stack((mask_c, mask_r))\n",
    "            return position\n",
    "        \n",
    "        elif (str(projection) == 'yz' or 'zy'):\n",
    "            mask_r, mask_c = np.where(classification[slice_index, :, :] == 2)\n",
    "            mask_r = mask_r * box_size / grid_size\n",
    "            mask_c = mask_c * box_size / grid_size\n",
    "            position = np.column_stack((mask_r, mask_c))\n",
    "            return position\n",
    "        \n",
    "        elif (str(projection) == 'zx' or 'xz'):\n",
    "            mask_r, mask_c = np.where(classification[:, slice_index, :] == 2)\n",
    "            mask_r = mask_r * box_size / grid_size\n",
    "            mask_c = mask_c * box_size / grid_size\n",
    "            position = np.column_stack((mask_r, mask_c))\n",
    "            return position\n",
    "        \n",
    "        else: \n",
    "            print('ValueError')\n",
    "            \n",
    "            \n",
    "    elif str(structure)[0].lower() == 'n':\n",
    "        \n",
    "        if (str(projection) == 'xy' or 'yx'):\n",
    "            mask_r, mask_c = np.where(classification[:, :, slice_index] == 3)\n",
    "            mask_r = mask_r * box_size / grid_size\n",
    "            mask_c = mask_c * box_size / grid_size\n",
    "            position = np.column_stack((mask_c, mask_r))\n",
    "            return position\n",
    "        \n",
    "        elif (str(projection) == 'yz' or 'zy'):\n",
    "            mask_r, mask_c = np.where(classification[slice_index, :, :] == 3)\n",
    "            mask_r = mask_r * box_size / grid_size\n",
    "            mask_c = mask_c * box_size / grid_size\n",
    "            position = np.column_stack((mask_r, mask_c))\n",
    "            return position\n",
    "        \n",
    "        elif (str(projection) == 'zx' or 'xz'):\n",
    "            mask_r, mask_c = np.where(classification[:, slice_index, :] == 3)\n",
    "            mask_r = mask_r * box_size / grid_size\n",
    "            mask_c = mask_c * box_size / grid_size\n",
    "            position = np.column_stack((mask_r, mask_c))\n",
    "            return position\n",
    "        \n",
    "        else: \n",
    "            print('ValueError')\n",
    "        \n",
    "    else:\n",
    "        print('ValueError')\n",
    "        "
   ]
  },
  {
   "cell_type": "code",
   "execution_count": null,
   "id": "d82adbf6",
   "metadata": {},
   "outputs": [],
   "source": [
    "def get_class_env_pos(classification, slice_index):\n",
    "    \n",
    "    \"\"\"\n",
    "    Extracts positions of points for all environment types ('v', 's', 'f', 'n') in a 2D slice.\n",
    "\n",
    "    Parameters:\n",
    "    - classification (numpy.ndarray): 3D array representing the classification of points.\n",
    "    - slice_index (int): Index of the slice to be extracted.\n",
    "\n",
    "    Returns:\n",
    "    - list: List containing 2D arrays representing positions of points for each environment type.\n",
    "\n",
    "    Notes:\n",
    "    - Uses the get_pos function to extract positions for each environment type.\n",
    "    - The classification parameter is a 3D array where points are classified into different structures.\n",
    "    - The slice_index parameter determines the index of the slice to be extracted.\n",
    "    - Positions are returned in physical units, scaled based on the default grid size (512) and box size (100).\n",
    "\n",
    "    Example:\n",
    "    >>> classification = np.random.randint(0, 4, size=(512, 512, 512))\n",
    "    >>> slice_index = 2\n",
    "    >>> result = get_class_env_pos(classification, slice_index)\n",
    "    \"\"\"\n",
    "    \n",
    "    envs = ['v', 's', 'f', 'n']\n",
    "    \n",
    "    all_env_pos = []\n",
    "    \n",
    "    for env in envs:\n",
    "        env_pos = get_pos(env, 'xy', slice_index, classification)\n",
    "        all_env_pos.append(env_pos)\n",
    "    \n",
    "    return all_env_pos"
   ]
  },
  {
   "cell_type": "markdown",
   "id": "95f64e3b",
   "metadata": {},
   "source": [
    "### Overlay of classifications on density fields"
   ]
  },
  {
   "cell_type": "markdown",
   "id": "118253ad",
   "metadata": {},
   "source": [
    "#### 1. For smoothing scale 0.54 $h^{-1}~Mpc$"
   ]
  },
  {
   "cell_type": "code",
   "execution_count": null,
   "id": "b715524c",
   "metadata": {},
   "outputs": [],
   "source": [
    "s_index = 256\n",
    "\n",
    "labels = ['Void', 'Sheet', 'Filament', 'Cluster']\n",
    "env_pos_054 = get_class_env_pos(class_054, s_index)\n",
    "alphas = [0.1, 0.1, 0.1, 0.7]\n",
    "sizes = [0.3, 0.3, 0.3, 0.8]\n",
    "\n",
    "slice_054 = slice_density_field(rho054, s_index)\n",
    "\n",
    "fig, ax = plt.subplots(2, 2, figsize = (10, 8), dpi = 300)\n",
    "\n",
    "ax = ax.flatten()\n",
    "\n",
    "for i in range(len(labels)):\n",
    "    \n",
    "    ax[i].imshow(slice_054, cmap='Greys', extent=[0, 100, 0, 100], origin='lower')\n",
    "    ax[i].scatter(env_pos_054[i][:, 0], env_pos_054[i][:, 1], s= sizes[i], alpha=alphas[i], label=labels[i])\n",
    "    ax[i].set_title(f'{labels[i]} classification', fontsize = 13)\n",
    "    ax[i].set_xlabel('$h^{-1}~Mpc$')\n",
    "    ax[i].set_ylabel('$h^{-1}~Mpc$')\n",
    "    ax[i].tick_params(axis='both',  which='both',  left=True, right=True, top = True, bottom = True, direction = 'in', labelsize = 7)\n",
    "\n",
    "plt.suptitle(r'$R_s = 0.54~h^{-1}~Mpc$')\n",
    "fig.tight_layout()\n",
    "plt.show()"
   ]
  },
  {
   "cell_type": "markdown",
   "id": "155b2456",
   "metadata": {},
   "source": [
    "#### 2. For smoothing scale 0.76 $h^{-1}~Mpc$"
   ]
  },
  {
   "cell_type": "code",
   "execution_count": null,
   "id": "c15940a5",
   "metadata": {
    "scrolled": false
   },
   "outputs": [],
   "source": [
    "s_index = 256\n",
    "\n",
    "labels = ['Void', 'Sheet', 'Filament', 'Cluster']\n",
    "env_pos_076 = get_class_env_pos(class_076, s_index)\n",
    "slice_076 = slice_density_field(rho076, s_index)\n",
    "\n",
    "fig, ax = plt.subplots(2, 2, figsize = (10, 8), dpi = 300)\n",
    "\n",
    "ax = ax.flatten()\n",
    "\n",
    "for i in range(len(labels)):\n",
    "    ax[i].imshow(slice_076, cmap='Greys', extent=[0, 100, 0, 100], origin='lower')\n",
    "    ax[i].scatter(env_pos_076[i][:, 0], env_pos_076[i][:, 1], s= 0.7, alpha=0.08, label=labels[i])\n",
    "    ax[i].set_title(f'{labels[i]} classification', fontsize = 13)\n",
    "    ax[i].set_xlabel(r'$h^{-1}~Mpc$')\n",
    "    ax[i].set_ylabel(r'$h^{-1}~Mpc$')\n",
    "    ax[i].tick_params(axis='both',  which='both',  left=True, right=False, top = False, bottom = True, direction = 'in', labelsize = 7)\n",
    "\n",
    "plt.suptitle(r'$R_s = 0.76~h^{-1}~Mpc$')\n",
    "fig.tight_layout()\n",
    "plt.show()"
   ]
  },
  {
   "cell_type": "markdown",
   "id": "5c9f4292",
   "metadata": {},
   "source": [
    "#### 3. For smoothing scale 1.16 $h^{-1}~Mpc$"
   ]
  },
  {
   "cell_type": "code",
   "execution_count": null,
   "id": "05933bb0",
   "metadata": {
    "scrolled": false
   },
   "outputs": [],
   "source": [
    "s_index = 256\n",
    "\n",
    "labels = ['Void', 'Sheet', 'Filament', 'Cluster']\n",
    "\n",
    "env_pos_116 = get_class_env_pos(class_116, s_index)\n",
    "alphas = [0.1, 0.1, 0.1, 0.1]\n",
    "sizes = [0.2, 0.2, 0.2, 0.5]\n",
    "slice_116 = slice_density_field(rho116, s_index)\n",
    "\n",
    "fig, ax = plt.subplots(2, 2, figsize = (10, 8), dpi = 300)\n",
    "\n",
    "ax = ax.flatten()\n",
    "\n",
    "for i in range(len(labels)):\n",
    "    ax[i].imshow(slice_116, cmap='Greys', extent=[0, 100, 0, 100], origin='lower')\n",
    "    ax[i].scatter(env_pos_116[i][:, 0], env_pos_116[i][:, 1], s= sizes[i], alpha=alphas[i], label=labels[i])\n",
    "    ax[i].set_title(f'{labels[i]} classification', fontsize = 13)\n",
    "    ax[i].set_xlabel(r'$h^{-1}~Mpc$')\n",
    "    ax[i].set_ylabel(r'$h^{-1}~Mpc$')\n",
    "    ax[i].tick_params(axis='both',  which='both',  left=True, right=False, top = False, bottom = True, direction = 'in', labelsize = 7)\n",
    "\n",
    "plt.suptitle(r'$R_s = 1.16~h^{-1}~Mpc$')\n",
    "fig.tight_layout()\n",
    "plt.show()"
   ]
  },
  {
   "cell_type": "markdown",
   "id": "80dd65a6",
   "metadata": {},
   "source": [
    "#### 5. For smoothing scale 1.3 $h^{-1}~Mpc$"
   ]
  },
  {
   "cell_type": "code",
   "execution_count": null,
   "id": "e2e3f731",
   "metadata": {
    "scrolled": false
   },
   "outputs": [],
   "source": [
    "s_index = 256\n",
    "\n",
    "labels = ['Void', 'Sheet', 'Filament', 'Cluster']\n",
    "env_pos_13 = get_class_env_pos(class_13, s_index)\n",
    "alphas = [0.1, 0.1, 0.1, 0.2]\n",
    "sizes = [0.2, 0.2, 0.2, 0.5]\n",
    "\n",
    "slice_13 = slice_density_field(rho13, s_index)\n",
    "\n",
    "fig, ax = plt.subplots(2, 2, figsize = (10, 8), dpi = 300)\n",
    "\n",
    "ax = ax.flatten()\n",
    "\n",
    "for i in range(len(labels)):\n",
    "    ax[i].imshow(slice_13, cmap='Greys', extent=[0, 100, 0, 100], origin='lower')\n",
    "    ax[i].scatter(env_pos_13[i][:, 0], env_pos_13[i][:, 1], s= sizes[i], alpha=alphas[i], label=labels[i])\n",
    "    ax[i].set_title(f'{labels[i]} classification', fontsize = 13)\n",
    "    ax[i].set_xlabel(r'$h^{-1}~Mpc$')\n",
    "    ax[i].set_ylabel(r'$h^{-1}~Mpc$')\n",
    "    ax[i].tick_params(axis='both',  which='both',  left=True, right=False, top = False, bottom = True, direction = 'in', labelsize = 7)\n",
    "\n",
    "plt.suptitle(r'$R_s = 1.3~h^{-1}~Mpc$')\n",
    "fig.tight_layout()\n",
    "plt.show()"
   ]
  },
  {
   "cell_type": "code",
   "execution_count": null,
   "id": "243d8bd9",
   "metadata": {
    "scrolled": false
   },
   "outputs": [],
   "source": [
    "labels = ['Void', 'Sheet', 'Filament', 'Cluster']\n",
    "env_pos_all = [env_pos_054, env_pos_076, env_pos_116, env_pos_13]\n",
    "smth_scales = [0.54, 0.76, 1.16, 1.3]\n",
    "d_scales = [slice_054, slice_076, slice_116, slice_13]\n",
    "\n",
    "alphas = [0.5, 0.5, 0.5, 0.5]\n",
    "sizes = [0.015, 0.015, 0.015, 0.015]\n",
    "\n",
    "fig, ax = plt.subplots(2, 2, figsize=(13, 13), dpi=400, sharey = True)\n",
    "fig.subplots_adjust(wspace = 0.1, hspace = 0.3)\n",
    "\n",
    "ax = ax.flatten()\n",
    "\n",
    "for idx, j in enumerate(smth_scales):\n",
    "    for i in range(len(labels)):\n",
    "        ax[idx].imshow(d_scales[idx], cmap='Greys', extent=[0, 100, 0, 100], origin='lower')\n",
    "        ax[idx].scatter(env_pos_all[idx][i][:, 0], env_pos_all[idx][i][:, 1], s=sizes[i], alpha=alphas[i], label=labels[i])\n",
    "        ax[idx].tick_params(axis='both', which='both', left=True, right=True, top=True, bottom=True, direction='in', labelsize=15)\n",
    "        ax[idx].set_xlabel(r'$h^{-1}~Mpc$', fontsize = 12)\n",
    "        ax[idx].set_ylabel(r'$h^{-1}~Mpc$', fontsize = 12)\n",
    "    ax[idx].set_title(r'$R_s = {:.2f}~h^{{-1}}~Mpc$'.format(j), fontsize = 18)\n",
    "\n",
    "plt.legend(bbox_to_anchor = (1.05, 0.5), fontsize = 15, markerscale = 70.0, ncol = 1)\n",
    "\n",
    "# fig.tight_layout()\n",
    "plt.show()"
   ]
  },
  {
   "cell_type": "code",
   "execution_count": null,
   "id": "6dbcb490",
   "metadata": {},
   "outputs": [],
   "source": [
    "labels = ['Void', 'Sheet', 'Filament', 'Cluster']\n",
    "\n",
    "env_pos_all = [env_pos_054, env_pos_13]\n",
    "smth_scales = [0, 0.54, 1.3]\n",
    "d_scales = [slice_054, slice_13]\n",
    "\n",
    "\n",
    "fig, ax = plt.subplots(1, len(d_scales)+1, figsize=(15, 15), dpi=400)\n",
    "\n",
    "ax = ax.flatten()\n",
    "\n",
    "for idx, j in enumerate(smth_scales):\n",
    "    if idx == 0:\n",
    "        ax[idx].imshow(slice_054, cmap = 'Greys', extent = [0, 100, 0, 100], origin = 'lower')\n",
    "        ax[idx].tick_params(axis='both', which='both', left=True, right=True, top=True, bottom=True, direction='in', labelsize=12)\n",
    "        ax[idx].set_xlabel(r'$h^{-1}~Mpc$', fontsize = 12)\n",
    "        ax[idx].set_ylabel(r'$h^{-1}~Mpc$', fontsize = 12)\n",
    "        ax[idx].set_title(r'$R_s = 0.54~h^{{-1}}~Mpc$', fontsize = 15)\n",
    "\n",
    "    else:\n",
    "        for i in range(len(labels)):\n",
    "            ax[idx].imshow(d_scales[idx-1], cmap='Greys', extent=[0, 100, 0, 100], origin='lower')\n",
    "            ax[idx].scatter(env_pos_all[idx-1][i][:, 0], env_pos_all[idx-1][i][:, 1], s=0.02, alpha=0.3, label=labels[i])\n",
    "            ax[idx].tick_params(axis='both', which='both', left=True, right=True, top=True, bottom=True, direction='in', labelsize=12)\n",
    "            ax[idx].set_xlabel(r'$h^{-1}~Mpc$', fontsize = 12)\n",
    "            ax[idx].set_ylabel(r'$h^{-1}~Mpc$', fontsize = 12)\n",
    "        ax[idx].set_title(r'$R_s = {:.2f}~h^{{-1}}~Mpc$'.format(j), fontsize = 15)\n",
    "\n",
    "plt.legend(bbox_to_anchor = (1.05, 0.5), fontsize = 12, markerscale = 70.0, ncol = 1)\n",
    "\n",
    "fig.tight_layout()\n",
    "plt.show()"
   ]
  },
  {
   "cell_type": "code",
   "execution_count": null,
   "id": "95c7b4e8",
   "metadata": {},
   "outputs": [],
   "source": [
    "labels = ['Sheet', 'Filament']\n",
    "\n",
    "env_pos_054_n = [env_pos_054[1], env_pos_054[2]]\n",
    "env_pos_13_n = [env_pos_13[1], env_pos_13[2]]\n",
    "\n",
    "\n",
    "env_pos_all = [env_pos_054_n, env_pos_13_n]\n",
    "smth_scales = [0.54, 1.3]\n",
    "d_scales = [slice_054, slice_13]\n",
    "\n",
    "size = 0.02\n",
    "\n",
    "alphas = [0.7, 0.7, 0.7, 0.7]\n",
    "sizes = [size, size, size, size]\n",
    "\n",
    "fig, ax = plt.subplots(1, len(d_scales), figsize=(12, 12), dpi=400)\n",
    "\n",
    "ax = ax.flatten()\n",
    "\n",
    "for idx, j in enumerate(smth_scales):\n",
    "    for i in range(len(labels)):\n",
    "        ax[idx].imshow(d_scales[idx], cmap='Greys', extent=[0, 100, 0, 100], origin='lower')\n",
    "        ax[idx].scatter(env_pos_all[idx][i][:, 0], env_pos_all[idx][i][:, 1], s=sizes[i], alpha=alphas[i], label=labels[i])\n",
    "        ax[idx].tick_params(axis='both', which='both', left=True, right=True, top=True, bottom=True, direction='in', labelsize=12)\n",
    "        ax[idx].set_xlabel(r'$h^{-1}~Mpc$')\n",
    "        ax[idx].set_ylabel(r'$h^{-1}~Mpc$')\n",
    "    ax[idx].set_title(r'$R_s = {:.2f}~h^{{-1}}~Mpc$'.format(j), fontsize = 15)\n",
    "\n",
    "plt.legend(bbox_to_anchor = (1.05, 0.5), fontsize = 12, markerscale = 70.0, ncol = 1)\n",
    "\n",
    "fig.tight_layout()\n",
    "plt.show()"
   ]
  },
  {
   "cell_type": "code",
   "execution_count": null,
   "id": "16a41970",
   "metadata": {},
   "outputs": [],
   "source": [
    "def get_env_change(clf1, clf2, diff, init_env):\n",
    "    \"\"\"\n",
    "    Extracts positions where the environment type changes between two classification arrays.\n",
    "\n",
    "    Parameters:\n",
    "    - clf1 (numpy.ndarray): First 3D array representing the initial classification of points.\n",
    "    - clf2 (numpy.ndarray): Second 3D array representing the final classification of points.\n",
    "    - diff (int): The difference in environment types indicating the change.\n",
    "    - init_env (int): The initial environment type.\n",
    "\n",
    "    Returns:\n",
    "    - numpy.ndarray: 2D array representing positions where the environment type changes.\n",
    "\n",
    "    Notes:\n",
    "    - Compares the classification arrays clf1 and clf2 to identify changes.\n",
    "    - The difference diff is used to detect the change in environment types.\n",
    "    - The init_env parameter specifies the initial environment type.\n",
    "    - Positions are returned in physical units, scaled based on the default grid size (512) and box size (100).\n",
    "\n",
    "    Example:\n",
    "    >>> clf1 = np.random.randint(0, 4, size=(512, 512, 512))\n",
    "    >>> clf2 = np.random.randint(0, 4, size=(512, 512, 512))\n",
    "    >>> diff = 1\n",
    "    >>> init_env = 2\n",
    "    >>> result = get_env_change(clf1, clf2, diff, init_env)\n",
    "    \"\"\"\n",
    "    grid_size = 512\n",
    "    box_size = 100\n",
    "    slice_index = 256\n",
    "    \n",
    "    dif_clf = clf2[:, :, slice_index] - clf1[:, :, slice_index]\n",
    "    \n",
    "    bool_clf = np.isclose(dif_clf, diff) & (clf1[:, :, slice_index] == init_env)\n",
    "    \n",
    "    col, row = np.where(bool_clf)\n",
    "    \n",
    "    col = col * box_size / grid_size\n",
    "    row = row * box_size / grid_size\n",
    "    \n",
    "    result = np.column_stack((row, col))\n",
    "    \n",
    "    return result\n"
   ]
  },
  {
   "cell_type": "code",
   "execution_count": null,
   "id": "0a8681f5",
   "metadata": {},
   "outputs": [],
   "source": [
    "# void to sheet\n",
    "v2s = get_env_change(class_054, class_13, 1, 0)\n",
    "\n",
    "# sheet to filament\n",
    "s2f = get_env_change(class_054, class_13, 1, 1)\n",
    "\n",
    "# filament to node\n",
    "f2n = get_env_change(class_054, class_13, 1, 2)\n",
    "\n",
    "# sheet to void\n",
    "s2v = get_env_change(class_054, class_13, -1, 1)\n",
    "\n",
    "# filament to sheet\n",
    "f2s = get_env_change(class_054, class_13, -1, 2)\n",
    "\n",
    "# node to filament\n",
    "n2f = get_env_change(class_054, class_13, -1, 3)"
   ]
  },
  {
   "cell_type": "code",
   "execution_count": null,
   "id": "6ac06192",
   "metadata": {},
   "outputs": [],
   "source": [
    "# void to filament\n",
    "v2f = get_env_change(class_054, class_13, 2, 0)\n",
    "\n",
    "# void to node\n",
    "v2n = get_env_change(class_054, class_13, 3, 0)\n",
    "\n",
    "# sheet to node\n",
    "s2n = get_env_change(class_054, class_13, 2, 1)\n",
    "\n",
    "# filament to void\n",
    "f2v = get_env_change(class_054, class_13, -2, 2)\n",
    "\n",
    "# node to void\n",
    "n2v = get_env_change(class_054, class_13, -3, 3)\n",
    "\n",
    "# node to sheet\n",
    "n2s = get_env_change(class_054, class_13, -2, 3)"
   ]
  },
  {
   "cell_type": "code",
   "execution_count": null,
   "id": "e32495dc",
   "metadata": {},
   "outputs": [],
   "source": [
    "transform_plots = [v2s, s2f, f2n, s2v, f2s, n2f]\n",
    "titles = ['Void to Sheet', 'Sheet to Filament', 'Filament to Cluster', \\\n",
    "          'Sheet to Void', 'Filament to Sheet', 'Cluster to Filament']\n",
    "\n",
    "fig, ax = plt.subplots(2, 3, figsize=(12, 10), dpi=400, sharey = True)\n",
    "fig.subplots_adjust(wspace = 0.1, hspace = 0)\n",
    "\n",
    "ax = ax.flatten()\n",
    "\n",
    "for idx, j in enumerate(transform_plots):\n",
    "    ax[idx].imshow(slice_054, cmap='Greys', extent=[0, 100, 0, 100], origin='lower')\n",
    "    ax[idx].scatter(transform_plots[idx][:, 0], transform_plots[idx][:, 1], c= 'r', s = 0.08, alpha = 0.2)\n",
    "    ax[idx].tick_params(axis='both', which='both', left=True, right=True, top=True, bottom=True, direction='in', labelsize=12)    \n",
    "    ax[idx].set_title(f'{titles[idx]}', fontsize = 15)\n",
    "\n",
    "ax[1].set_xlabel(r'$h^{-1}~Mpc$')\n",
    "ax[0].set_ylabel(r'$h^{-1}~Mpc$')\n",
    "ax[3].set_ylabel(r'$h^{-1}~Mpc$')\n",
    "ax[4].set_xlabel(r'$h^{-1}~Mpc$')\n",
    "\n",
    "# plt.tight_layout()\n",
    "plt.suptitle('Changes in classification of Halo environments', fontsize = 18)\n",
    "plt.show()"
   ]
  },
  {
   "cell_type": "code",
   "execution_count": null,
   "id": "ba6b57d5",
   "metadata": {},
   "outputs": [],
   "source": [
    "transform_plots = [v2f, v2n, s2n, f2v, n2v, n2s]\n",
    "titles = ['Void to Filament', 'Void to Cluster', 'Sheet to Cluster', \\\n",
    "          'Filament to Void', 'Cluster to Void', 'Cluster to Sheet']\n",
    "\n",
    "fig, ax = plt.subplots(2, 3, figsize=(12, 10), dpi=400, sharey = True)\n",
    "fig.subplots_adjust(wspace = 0.1, hspace = 0)\n",
    "\n",
    "ax = ax.flatten()\n",
    "\n",
    "for idx, j in enumerate(transform_plots):\n",
    "    ax[idx].imshow(slice_054, cmap='Greys', extent=[0, 100, 0, 100], origin='lower')\n",
    "    ax[idx].scatter(transform_plots[idx][:, 0], transform_plots[idx][:, 1], c= 'r', s = 0.08, alpha = 0.2)\n",
    "    ax[idx].tick_params(axis='both', which='both', left=True, right=True, top=True, bottom=True, direction='in', labelsize=12)    \n",
    "    ax[idx].set_title(f'{titles[idx]}', fontsize = 15)\n",
    "\n",
    "ax[1].set_xlabel(r'$h^{-1}~Mpc$')\n",
    "ax[0].set_ylabel(r'$h^{-1}~Mpc$')\n",
    "ax[3].set_ylabel(r'$h^{-1}~Mpc$')\n",
    "ax[4].set_xlabel(r'$h^{-1}~Mpc$')\n",
    "\n",
    "# plt.tight_layout()\n",
    "plt.suptitle('Changes in classification of Halo environments', fontsize = 18)\n",
    "plt.show()"
   ]
  },
  {
   "cell_type": "markdown",
   "id": "9ba18983",
   "metadata": {},
   "source": [
    "#### $R_s = 0.54 h^{-1} Mpc$ for 5 consecutive slices"
   ]
  },
  {
   "cell_type": "code",
   "execution_count": null,
   "id": "71f066b0",
   "metadata": {},
   "outputs": [],
   "source": [
    "def get_env_pos_and_density(classification, slices, rho):\n",
    "    \"\"\"\n",
    "    Extracts positions and density fields for multiple slices and environment types.\n",
    "\n",
    "    Parameters:\n",
    "    - classification (numpy.ndarray): 3D array representing the classification of points.\n",
    "    - slices (list): List of slice indices to be extracted.\n",
    "    - rho (numpy.ndarray): 3D array representing the density field.\n",
    "\n",
    "    Returns:\n",
    "    - dict: Dictionary containing positions and density fields for each slice and environment type.\n",
    "\n",
    "    Notes:\n",
    "    - Uses the get_pos function to extract positions for each environment type.\n",
    "    - Uses the slice_density_field function to extract density fields for each slice.\n",
    "    - The classification parameter is a 3D array where points are classified into different structures.\n",
    "    - The slices parameter is a list of slice indices to be extracted.\n",
    "    - The rho parameter is a 3D array representing the density field.\n",
    "    - Positions are returned in physical units, scaled based on the default grid size (512) and box size (100).\n",
    "    - The result is a dictionary with keys representing slice indices and environment types.\n",
    "\n",
    "    Example:\n",
    "    >>> classification = np.random.randint(0, 4, size=(512, 512, 512))\n",
    "    >>> slices = [1, 2, 3]\n",
    "    >>> rho = np.random.rand(512, 512, 512)\n",
    "    >>> result = get_env_pos_and_density(classification, slices, rho)\n",
    "    \"\"\"\n",
    "    envs = ['v', 's', 'f', 'n']\n",
    "    \n",
    "    all_slice_pos = {}\n",
    "    \n",
    "    all_slice_pos['density'] = []\n",
    "    \n",
    "    for slice_index in slices:\n",
    "        \n",
    "        all_slice_pos[str(slice_index)] = []\n",
    "        \n",
    "        for env in envs:\n",
    "            env_pos = get_pos(env, 'xy', slice_index, classification)\n",
    "            all_slice_pos[str(slice_index)].append(env_pos)\n",
    "        \n",
    "        all_slice_pos['density'].append(slice_density_field(rho, slice_index))\n",
    "    \n",
    "    return all_slice_pos"
   ]
  },
  {
   "cell_type": "code",
   "execution_count": null,
   "id": "16c45406",
   "metadata": {},
   "outputs": [],
   "source": [
    "def plot_slices(slice_info, slice_indices, rs, alpha=0.4):\n",
    "    \"\"\"\n",
    "    Plots multiple slices with density fields and point positions for different environment types.\n",
    "\n",
    "    Parameters:\n",
    "    - slice_info (dict): Dictionary containing positions and density fields for each slice and environment type.\n",
    "    - slice_indices (list): List of slice indices to be plotted.\n",
    "    - rs (float): Value of Rs (scale parameter).\n",
    "    - alpha (float): Alpha value for point transparency (default is 0.4).\n",
    "\n",
    "    Returns:\n",
    "    - None\n",
    "\n",
    "    Notes:\n",
    "    - The slice_info parameter is a dictionary with keys representing slice indices and environment types.\n",
    "    - The slice_indices parameter is a list of slice indices to be plotted.\n",
    "    - The rs parameter is the value of Rs (scale parameter) to be displayed in the plot.\n",
    "    - Density fields and point positions are overlaid for each environment type on each slice.\n",
    "    - The plot includes a title, labels, and a legend.\n",
    "\n",
    "    Example:\n",
    "    >>> slice_info = {'1': [array1_void, array1_sheet, array1_filament, array1_cluster],\n",
    "    ...               '2': [array2_void, array2_sheet, array2_filament, array2_cluster],\n",
    "    ...               'density': [density_array1, density_array2]}\n",
    "    >>> slice_indices = [1, 2]\n",
    "    >>> rs = 5.0\n",
    "    >>> plot_slices(slice_info, slice_indices, rs)\n",
    "    \"\"\"\n",
    "    labels = ['Void', 'Sheet', 'Filament', 'Cluster']\n",
    "\n",
    "    num_plots = len(slice_indices)\n",
    "    \n",
    "    if num_plots <= 3:\n",
    "        num_rows = 1\n",
    "        num_cols = num_plots\n",
    "    \n",
    "    elif num_plots % 3 == 0:\n",
    "        num_rows = num_plots // 3\n",
    "        num_cols = 3\n",
    "    \n",
    "    else:\n",
    "        num_rows = (num_plots // 3) + 1\n",
    "        num_cols = 3\n",
    "\n",
    "    fig = plt.figure(figsize=(20, 14), dpi=400)\n",
    "    gs = gridspec.GridSpec(num_rows, num_cols, width_ratios=[0.5, 0.5, 0.5], height_ratios=[1, 1])\n",
    "    fig.subplots_adjust(wspace=0.2)\n",
    "\n",
    "    for idx, slice_index in enumerate(slice_indices):\n",
    "        row = idx // num_cols\n",
    "        col = idx % num_cols\n",
    "\n",
    "        ax = plt.subplot(gs[row, col])\n",
    "\n",
    "        for i in range(len(labels)):\n",
    "            ax.imshow(slice_info['density'][idx], cmap='Greys', extent=[0, 100, 0, 100], origin='lower')\n",
    "            ax.scatter(slice_info[str(slice_index)][i][:, 0], slice_info[str(slice_index)][i][:, 1],\\\n",
    "                       s=0.02, alpha=alpha, label=labels[i])\n",
    "            ax.tick_params(axis='both', which='both', left=True, right=True, top=True, bottom=True, direction='in', labelsize=15)\n",
    "            ax.set_xlabel(r'$h^{-1}~Mpc$', fontsize=15)\n",
    "            ax.set_ylabel(r'$h^{-1}~Mpc$', fontsize=15)\n",
    "        ax.set_title(r'${:.2f}~h^{{-1}}~Mpc$'.format(slice_indices[idx] * 100 / 512), fontsize=15)\n",
    "\n",
    "    plt.suptitle(r'$R_s = {}~h^{{-1}}~Mpc$'.format(rs), fontsize=25)\n",
    "\n",
    "    # Place the legend outside the plots\n",
    "    plt.legend(bbox_to_anchor=(1.05, 0.5), fontsize=18, markerscale=75.0, ncol=1)\n",
    "\n",
    "    plt.show()\n"
   ]
  },
  {
   "cell_type": "code",
   "execution_count": null,
   "id": "fc0b8252",
   "metadata": {},
   "outputs": [],
   "source": [
    "slice_list = [236, 246, 256, 266, 276]\n",
    "all_info_054 = get_env_pos_and_density(class_054, slice_list, rho054)"
   ]
  },
  {
   "cell_type": "code",
   "execution_count": null,
   "id": "aabf4677",
   "metadata": {},
   "outputs": [],
   "source": [
    "plot_slices(all_info_054, slice_list, 0.54, 0.5)"
   ]
  },
  {
   "cell_type": "markdown",
   "id": "d80118f5",
   "metadata": {},
   "source": [
    "#### $R_s = 0.76 h^{-1} Mpc$ for 5 consecutive slices"
   ]
  },
  {
   "cell_type": "code",
   "execution_count": null,
   "id": "93c28ab1",
   "metadata": {},
   "outputs": [],
   "source": [
    "all_info_076 = get_env_pos_and_density(class_076, slice_list, rho076)"
   ]
  },
  {
   "cell_type": "code",
   "execution_count": null,
   "id": "b2c0bf89",
   "metadata": {},
   "outputs": [],
   "source": [
    "plot_slices(all_info_076, slice_list, 0.76)"
   ]
  },
  {
   "cell_type": "markdown",
   "id": "f55dae70",
   "metadata": {},
   "source": [
    "#### $R_s = 1.16 h^{-1} Mpc$ for 5 consecutive slices"
   ]
  },
  {
   "cell_type": "code",
   "execution_count": null,
   "id": "c3296301",
   "metadata": {},
   "outputs": [],
   "source": [
    "all_info_116 = get_env_pos_and_density(class_116, slice_list, rho116)"
   ]
  },
  {
   "cell_type": "code",
   "execution_count": null,
   "id": "706f9b6a",
   "metadata": {},
   "outputs": [],
   "source": [
    "plot_slices(all_info_076, slice_list, 1.167)"
   ]
  },
  {
   "cell_type": "markdown",
   "id": "f9d3dcab",
   "metadata": {},
   "source": [
    "#### $R_s = 1.30 h^{-1} Mpc$ for 5 consecutive slices"
   ]
  },
  {
   "cell_type": "code",
   "execution_count": null,
   "id": "4eb22368",
   "metadata": {},
   "outputs": [],
   "source": [
    "all_info_13 = get_env_pos_and_density(class_13, slice_list, rho13)"
   ]
  },
  {
   "cell_type": "code",
   "execution_count": null,
   "id": "17cdffe5",
   "metadata": {},
   "outputs": [],
   "source": [
    "plot_slices(all_info_13, slice_list, 1.3)"
   ]
  },
  {
   "cell_type": "code",
   "execution_count": null,
   "id": "16e098aa",
   "metadata": {},
   "outputs": [],
   "source": [
    "def plot_2d_env(slice_info, env_index, slice_indices, rs):\n",
    "    \"\"\"\n",
    "    Plots 2D positions of a specific environment type across multiple slices.\n",
    "\n",
    "    Parameters:\n",
    "    - slice_info (dict): Dictionary containing positions and density fields for each slice and environment type.\n",
    "    - env_index (int): Index representing the environment type ('Void', 'Sheet', 'Filament', 'Cluster').\n",
    "    - slice_indices (list): List of slice indices to be plotted.\n",
    "    - rs (float): Value of Rs (scale parameter).\n",
    "\n",
    "    Returns:\n",
    "    - None\n",
    "\n",
    "    Notes:\n",
    "    - The slice_info parameter is a dictionary with keys representing slice indices and environment types.\n",
    "    - The env_index parameter is an index representing the environment type to be plotted.\n",
    "    - The slice_indices parameter is a list of slice indices to be plotted.\n",
    "    - The rs parameter is the value of Rs (scale parameter) to be displayed in the plot.\n",
    "    - Positions are plotted in 2D for the specified environment type across multiple slices.\n",
    "    - The plot includes labels, a title, and different colors for each slice.\n",
    "\n",
    "    Example:\n",
    "    >>> slice_info = {'1': [array1_void, array1_sheet, array1_filament, array1_cluster],\n",
    "    ...               '2': [array2_void, array2_sheet, array2_filament, array2_cluster]}\n",
    "    >>> env_index = 2\n",
    "    >>> slice_indices = [1, 2]\n",
    "    >>> rs = 5.0\n",
    "    >>> plot_2d_env(slice_info, env_index, slice_indices, rs)\n",
    "    \"\"\"\n",
    "    labels = ['Void', 'Sheet', 'Filament', 'Cluster']\n",
    "    \n",
    "    plt.figure(figsize=(10, 7), dpi=200)\n",
    "\n",
    "    # Create a unique color for each combination of label and slice\n",
    "    colors = itertools.cycle(plt.cm.tab10.colors)\n",
    "    \n",
    "    for idx, slice_index in enumerate(slice_indices):\n",
    "        color = next(colors)\n",
    "        \n",
    "        plt.scatter(slice_info[str(slice_index)][env_index][:, 1], slice_info[str(slice_index)][env_index][:, 0],\\\n",
    "                    s=0.08, alpha=0.8, label=f'Slice {idx+1}', color=color)\n",
    "        \n",
    "\n",
    "    plt.xlabel(r'$h^{-1}~Mpc$', fontsize=12)\n",
    "    plt.ylabel(r'$h^{-1}~Mpc$', fontsize=12)\n",
    "    plt.title(r'{} Environment: $R_s = {}~h^{{-1}}~Mpc$'.format(labels[env_index], rs), fontsize=15)\n",
    "    \n",
    "    plt.show()\n"
   ]
  },
  {
   "cell_type": "code",
   "execution_count": null,
   "id": "14cf92c6",
   "metadata": {},
   "outputs": [],
   "source": [
    "def plot_3d_env(slice_info, env_index, slice_indices, rs, side):\n",
    "    \"\"\"\n",
    "    Plots 3D positions of a specific environment type across multiple slices.\n",
    "\n",
    "    Parameters:\n",
    "    - slice_info (dict): Dictionary containing positions and density fields for each slice and environment type.\n",
    "    - env_index (int): Index representing the environment type ('Void', 'Sheet', 'Filament', 'Cluster').\n",
    "    - slice_indices (list): List of slice indices to be plotted.\n",
    "    - rs (float): Value of Rs (scale parameter).\n",
    "    - side (str): Projection side ('Front' or 'Side').\n",
    "\n",
    "    Returns:\n",
    "    - None\n",
    "\n",
    "    Notes:\n",
    "    - The slice_info parameter is a dictionary with keys representing slice indices and environment types.\n",
    "    - The env_index parameter is an index representing the environment type to be plotted.\n",
    "    - The slice_indices parameter is a list of slice indices to be plotted.\n",
    "    - The rs parameter is the value of Rs (scale parameter) to be displayed in the plot.\n",
    "    - The side parameter specifies the projection side ('Front' or 'Side').\n",
    "    - Positions are plotted in 3D for the specified environment type across multiple slices.\n",
    "    - The plot includes labels, a title, and different colors for each slice.\n",
    "\n",
    "    Example:\n",
    "    >>> slice_info = {'1': [array1_void, array1_sheet, array1_filament, array1_cluster],\n",
    "    ...               '2': [array2_void, array2_sheet, array2_filament, array2_cluster]}\n",
    "    >>> env_index = 2\n",
    "    >>> slice_indices = [1, 2]\n",
    "    >>> rs = 5.0\n",
    "    >>> side = 'Front'\n",
    "    >>> plot_3d_env(slice_info, env_index, slice_indices, rs, side)\n",
    "    \"\"\"\n",
    "    labels = ['Void', 'Sheet', 'Filament', 'Cluster']\n",
    "    \n",
    "    fig = plt.figure(figsize=(10, 7), dpi=200)\n",
    "    ax_3d = fig.add_subplot(111, projection='3d')\n",
    "\n",
    "    # Create a unique color for each combination of label and slice\n",
    "    colors = itertools.cycle(plt.cm.tab10.colors)\n",
    "    \n",
    "    a = np.linspace(0.2, 0.7, len(slice_indices))\n",
    "    \n",
    "    for idx, slice_index in enumerate(slice_indices):\n",
    "        z_coord = slice_index * 100 / 512\n",
    "        color = next(colors)\n",
    "        \n",
    "        if str(side).lower()[0] == 'f':\n",
    "            ax_3d.scatter(slice_info[str(slice_index)][env_index][:, 0], slice_info[str(slice_index)][env_index][:, 1], z_coord,\\\n",
    "                          s=0.08, alpha=0.8, label=f'Slice {idx+1}', color=color)\n",
    "        \n",
    "        else:\n",
    "            ax_3d.scatter(slice_info[str(slice_index)][env_index][:, 1], slice_info[str(slice_index)][env_index][:, 0], z_coord,\\\n",
    "                          s=0.08, alpha=0.8, label=f'Slice {idx+1}', color=color)\n",
    "        \n",
    "\n",
    "    ax_3d.set_xlabel(r'$h^{-1}~Mpc$', fontsize=12)\n",
    "    ax_3d.set_ylabel(r'$h^{-1}~Mpc$', fontsize=12)\n",
    "    ax_3d.set_zlabel(r'$h^{-1}~Mpc$', fontsize=12)\n",
    "    ax_3d.set_title(r'{} Environment: $R_s = {}~h^{{-1}}~Mpc$ ({})'.format(labels[env_index], rs, side), fontsize=15)\n",
    "    \n",
    "    ax_3d.view_init(elev=20)\n",
    "\n",
    "    plt.show()"
   ]
  },
  {
   "cell_type": "code",
   "execution_count": null,
   "id": "bc98b864",
   "metadata": {},
   "outputs": [],
   "source": [
    "from mayavi import mlab\n",
    "\n",
    "# Function to create volume rendering for a specific environment\n",
    "def plot_environment(environment_code):\n",
    "    # Create a binary mask for the specific environment\n",
    "    environment_mask = (class_054 == environment_code)\n",
    "\n",
    "    # Create volume rendering\n",
    "    src = mlab.pipeline.scalar_field(environment_mask)\n",
    "    vol = mlab.pipeline.volume(src)\n",
    "\n",
    "    # Customize the visualization settings if needed\n",
    "    # For example, adjust colormap, opacity, etc.\n",
    "\n",
    "    # Show the plot\n",
    "    mlab.show()\n",
    "\n",
    "# Generate volume renderings for each environment\n",
    "plot_environment(0)  # Voids\n",
    "# plot_environment(1)  # Sheets\n",
    "# plot_environment(2)  # Filaments\n",
    "# plot_environment(3)  # Clusters"
   ]
  },
  {
   "cell_type": "markdown",
   "id": "9b4a1320",
   "metadata": {},
   "source": [
    "For $R_s = 0.54 h^{-1}~Mpc$"
   ]
  },
  {
   "cell_type": "code",
   "execution_count": null,
   "id": "e557c979",
   "metadata": {},
   "outputs": [],
   "source": [
    "env_slices = np.arange(246, 277, 1)\n",
    "info_054 = get_env_pos_and_density(class_054, env_slices, rho054)"
   ]
  },
  {
   "cell_type": "code",
   "execution_count": null,
   "id": "c850de87",
   "metadata": {},
   "outputs": [],
   "source": [
    "plot_3d_env(info_054, 0, env_slices, 0.54, 'front')"
   ]
  },
  {
   "cell_type": "code",
   "execution_count": null,
   "id": "f13b2b79",
   "metadata": {},
   "outputs": [],
   "source": [
    "plot_3d_env(info_054, 0, env_slices, 0.54, 'back')"
   ]
  },
  {
   "cell_type": "code",
   "execution_count": null,
   "id": "e2d091b0",
   "metadata": {},
   "outputs": [],
   "source": [
    "plot_2d_env(info_054, 0, env_slices, 0.54)"
   ]
  },
  {
   "cell_type": "code",
   "execution_count": null,
   "id": "d3c74d86",
   "metadata": {},
   "outputs": [],
   "source": [
    "plot_3d_env(info_054, 1, env_slices, 0.54, 'front')"
   ]
  },
  {
   "cell_type": "code",
   "execution_count": null,
   "id": "5933dc41",
   "metadata": {},
   "outputs": [],
   "source": [
    "plot_3d_env(info_054, 1, env_slices, 0.54, 'back')"
   ]
  },
  {
   "cell_type": "code",
   "execution_count": null,
   "id": "51465783",
   "metadata": {},
   "outputs": [],
   "source": [
    "plot_2d_env(info_054, 1, env_slices, 0.54)"
   ]
  },
  {
   "cell_type": "code",
   "execution_count": null,
   "id": "d690c481",
   "metadata": {},
   "outputs": [],
   "source": [
    "plot_3d_env(info_054, 2, env_slices, 0.54, 'front')"
   ]
  },
  {
   "cell_type": "code",
   "execution_count": null,
   "id": "036c108e",
   "metadata": {},
   "outputs": [],
   "source": [
    "plot_3d_env(info_054, 2, env_slices, 0.54, 'back')"
   ]
  },
  {
   "cell_type": "code",
   "execution_count": null,
   "id": "0ec6d23a",
   "metadata": {},
   "outputs": [],
   "source": [
    "plot_2d_env(info_054, 2, env_slices, 0.54)"
   ]
  },
  {
   "cell_type": "code",
   "execution_count": null,
   "id": "8dd9c738",
   "metadata": {},
   "outputs": [],
   "source": [
    "plot_3d_env(info_054, 3, env_slices, 0.54, 'front')"
   ]
  },
  {
   "cell_type": "code",
   "execution_count": null,
   "id": "61a6ad2e",
   "metadata": {},
   "outputs": [],
   "source": [
    "plot_3d_env(info_054, 3, env_slices, 0.54, 'back')"
   ]
  },
  {
   "cell_type": "code",
   "execution_count": null,
   "id": "71784141",
   "metadata": {},
   "outputs": [],
   "source": [
    "plot_2d_env(info_054, 3, env_slices, 0.54)"
   ]
  },
  {
   "cell_type": "markdown",
   "id": "fbc369b4",
   "metadata": {},
   "source": [
    "For $R_s = 1.3 h^{-1}~Mpc$"
   ]
  },
  {
   "cell_type": "code",
   "execution_count": null,
   "id": "21f95c76",
   "metadata": {},
   "outputs": [],
   "source": [
    "info_13 = get_env_pos_and_density(class_13, env_slices, rho13)"
   ]
  },
  {
   "cell_type": "code",
   "execution_count": null,
   "id": "25cc0dda",
   "metadata": {},
   "outputs": [],
   "source": [
    "plot_3d_env(info_13, 0, env_slices, 1.3, 'front')"
   ]
  },
  {
   "cell_type": "code",
   "execution_count": null,
   "id": "fdafbffc",
   "metadata": {},
   "outputs": [],
   "source": [
    "plot_3d_env(info_13, 0, env_slices, 1.3, 'back')"
   ]
  },
  {
   "cell_type": "code",
   "execution_count": null,
   "id": "d9ad233a",
   "metadata": {},
   "outputs": [],
   "source": [
    "plot_2d_env(info_13, 0, env_slices, 0.54)"
   ]
  },
  {
   "cell_type": "code",
   "execution_count": null,
   "id": "72879bc5",
   "metadata": {},
   "outputs": [],
   "source": [
    "plot_3d_env(info_13, 1, env_slices, 1.3, 'front')"
   ]
  },
  {
   "cell_type": "code",
   "execution_count": null,
   "id": "093a3925",
   "metadata": {},
   "outputs": [],
   "source": [
    "plot_3d_env(info_13, 1, env_slices, 1.3, 'back')"
   ]
  },
  {
   "cell_type": "code",
   "execution_count": null,
   "id": "d254f651",
   "metadata": {},
   "outputs": [],
   "source": [
    "plot_2d_env(info_13, 1, env_slices, 0.54)"
   ]
  },
  {
   "cell_type": "code",
   "execution_count": null,
   "id": "4eb945f4",
   "metadata": {},
   "outputs": [],
   "source": [
    "plot_3d_env(info_13, 2, env_slices, 1.3, 'front')"
   ]
  },
  {
   "cell_type": "code",
   "execution_count": null,
   "id": "8992d9c8",
   "metadata": {},
   "outputs": [],
   "source": [
    "plot_3d_env(info_13, 2, env_slices, 1.3, 'back')"
   ]
  },
  {
   "cell_type": "code",
   "execution_count": null,
   "id": "3b1a58c9",
   "metadata": {},
   "outputs": [],
   "source": [
    "plot_2d_env(info_13, 2, env_slices, 1.3)"
   ]
  },
  {
   "cell_type": "code",
   "execution_count": null,
   "id": "9776dbc0",
   "metadata": {},
   "outputs": [],
   "source": [
    "plot_3d_env(info_13, 3, env_slices, 1.3, 'front')"
   ]
  },
  {
   "cell_type": "code",
   "execution_count": null,
   "id": "a0880254",
   "metadata": {},
   "outputs": [],
   "source": [
    "plot_3d_env(info_13, 3, env_slices, 1.3, 'back')"
   ]
  },
  {
   "cell_type": "code",
   "execution_count": null,
   "id": "3bbc5021",
   "metadata": {},
   "outputs": [],
   "source": [
    "plot_2d_env(info_13, 3, env_slices, 0.54)"
   ]
  },
  {
   "cell_type": "code",
   "execution_count": null,
   "id": "4175849c",
   "metadata": {},
   "outputs": [],
   "source": [
    "import matplotlib.pyplot as plt\n",
    "from mpl_toolkits.mplot3d import Axes3D\n",
    "import itertools\n",
    "\n",
    "def plot_3d_env(slice_info, env_values, slice_indices, rs_values):\n",
    "\n",
    "    fig, axs = plt.subplots(2, 2, figsize=(12, 10), dpi=200, subplot_kw={'projection': '3d'})\n",
    "    axs = axs.flatten()\n",
    "\n",
    "    for ax, env, rs in zip(axs, env_values, rs_values):\n",
    "\n",
    "#         colors = itertools.cycle(plt.cm.tab20.colors)\n",
    "\n",
    "        for idx, slice_index in enumerate(slice_indices):\n",
    "            z_coord = slice_index * 100 / 512\n",
    "            color = next(colors)\n",
    "            ax.scatter(slice_info[str(slice_index)][env][:, 0], slice_info[str(slice_index)][env][:, 1], z_coord,\n",
    "                       s=0.08, alpha=0.8, label=f'Slice {slice_index}')\n",
    "\n",
    "        ax.set_xlabel(r'$h^{-1}~Mpc$', fontsize=12)\n",
    "        ax.set_ylabel(r'$h^{-1}~Mpc$', fontsize=12)\n",
    "        ax.set_zlabel(r'$h^{-1}~Mpc$', fontsize=12)\n",
    "        ax.set_title(fr'$R_s = {rs}~h^{{-1}}~Mpc$ (X-Y)', fontsize=16)\n",
    "\n",
    "    # Adjust layout\n",
    "    plt.tight_layout()\n",
    "    plt.show()\n",
    "\n",
    "# Example usage\n",
    "env_values = [0, 1, 2, 3]  # Update with your specific env_values\n",
    "slice_indices = [0, 1, 2, 3]  # Update with your specific slice_indices\n",
    "rs_values = [1.0, 2.0, 3.0, 4.0]  # Update with your specific rs_values\n",
    "\n",
    "# Assuming slice_info is a dictionary containing relevant information\n",
    "# slice_info = ...\n",
    "\n",
    "plot_3d_env(slice_info, env_values, slice_indices, rs_values)\n"
   ]
  },
  {
   "cell_type": "code",
   "execution_count": null,
   "id": "91e42954",
   "metadata": {},
   "outputs": [],
   "source": [
    "import numpy as np\n",
    "import matplotlib.pyplot as plt\n",
    "from mpl_toolkits.mplot3d import Axes3D\n",
    "import itertools\n",
    "\n",
    "labels = ['Void', 'Sheet', 'Filament', 'Cluster']\n",
    "env_pos_all_13 = [env_pos_13_4, env_pos_13_5, env_pos_13_6, env_pos_13_7, env_pos_13_8]\n",
    "d_scales_13 = [d_field_13_4, d_field_13_5, d_field_13_6, d_field_13_7, d_field_13_8]\n",
    "slice_num = np.array([236, 246, 256, 266, 276]) * 100 / 512\n",
    "\n",
    "num_slices = len(env_pos_all_13)\n",
    "\n",
    "fig = plt.figure(figsize=(10, 7), dpi=400)\n",
    "ax_3d = fig.add_subplot(111, projection='3d')\n",
    "\n",
    "# Create a unique color for each combination of label and slice\n",
    "colors = itertools.cycle(plt.cm.tab20.colors)\n",
    "\n",
    "for idx, ev_all_pos in enumerate(env_pos_all_13):\n",
    "    for i, label in enumerate(labels):\n",
    "        z_coord = slice_num[idx] \n",
    "        color = next(colors)\n",
    "        ax_3d.scatter(ev_all_pos[i][:, 0], ev_all_pos[i][:, 1], z_coord, s=0.08, alpha=0.8, label=f'{label} - Slice {idx+1}', color=color)\n",
    "\n",
    "ax_3d.set_xlabel(r'$h^{-1}~Mpc$', fontsize=12)\n",
    "ax_3d.set_ylabel(r'$h^{-1}~Mpc$', fontsize=12)\n",
    "ax_3d.set_zlabel(r'$h^{-1}~Mpc$', fontsize=12)\n",
    "ax_3d.set_title(r'$R_s = 1.3~h^{-1}~Mpc$ (X-Y)', fontsize=20)\n",
    "\n",
    "ax_3d.legend(bbox_to_anchor=(1.15, 0.8), fontsize=8, markerscale=70, ncol=1)\n",
    "\n",
    "# ax_3d.view_init(elev=20)\n",
    "\n",
    "plt.show()\n"
   ]
  },
  {
   "cell_type": "code",
   "execution_count": null,
   "id": "846a5c93",
   "metadata": {
    "scrolled": false
   },
   "outputs": [],
   "source": [
    "labels = ['Void', 'Sheet', 'Filament', 'Cluster']\n",
    "env_pos_all_13 = [env_pos_13_4, env_pos_13_5, env_pos_13_6, env_pos_13_7, env_pos_13_8]\n",
    "\n",
    "d_scales_13 = [d_field_13_4, d_field_13_5, d_field_13_6, d_field_13_7, d_field_13_8]\n",
    "\n",
    "slice_num = np.array([236, 246, 256, 266, 276]) * 100 / 512\n",
    "\n",
    "num_slices = len(env_pos_all_13)\n",
    "\n",
    "fig = plt.figure(figsize=(10, 7), dpi=400)\n",
    "ax_3d = fig.add_subplot(111, projection='3d')\n",
    "\n",
    "for idx, ev_all_pos in enumerate(env_pos_all_13):\n",
    "    for i, label in enumerate(labels):\n",
    "        z_coord = slice_num[idx] \n",
    "        ax_3d.scatter(ev_all_pos[i][:, 0], ev_all_pos[i][:, 1], z_coord, s=0.02, alpha=0.8, label=f'{label} - Slice {idx+1}')\n",
    "\n",
    "ax_3d.set_xlabel(r'$h^{-1}~Mpc$', fontsize=12)\n",
    "ax_3d.set_ylabel(r'$h^{-1}~Mpc$', fontsize=12)\n",
    "ax_3d.set_zlabel(r'$h^{-1}~Mpc$', fontsize=12)\n",
    "ax_3d.set_title(r'$R_s = 1.3~h^{-1}~Mpc$ (X-Y)', fontsize=20)\n",
    "\n",
    "ax_3d.legend(bbox_to_anchor=(1.15, 0.8), fontsize=8, markerscale=70, ncol=1)\n",
    "\n",
    "# ax_3d.view_init(elev=20)\n",
    "\n",
    "plt.show()\n"
   ]
  },
  {
   "cell_type": "code",
   "execution_count": null,
   "id": "f416cb0b",
   "metadata": {
    "scrolled": false
   },
   "outputs": [],
   "source": [
    "labels = ['Void', 'Sheet', 'Filament', 'Cluster']\n",
    "env_pos_all_13 = [env_pos_13_4, env_pos_13_5, env_pos_13_6, env_pos_13_7, env_pos_13_8]\n",
    "d_scales_13 = [d_field_13_4, d_field_13_5, d_field_13_6, d_field_13_7, d_field_13_8]\n",
    "slice_num = np.array([236, 246, 256, 266, 276]) * 100 / 512\n",
    "\n",
    "num_slices = len(env_pos_all_13)\n",
    "\n",
    "fig = plt.figure(figsize=(10, 7), dpi=400)\n",
    "ax_3d = fig.add_subplot(111, projection='3d')\n",
    "\n",
    "for idx, ev_all_pos in enumerate(env_pos_all_13):\n",
    "    for i, label in enumerate(labels):\n",
    "        z_coord = slice_num[idx] \n",
    "        ax_3d.scatter(ev_all_pos[i][:, 1], ev_all_pos[i][:, 0], z_coord, s=0.02, alpha=0.4, label=f'{label} - Slice {idx+1}')\n",
    "\n",
    "ax_3d.set_xlabel(r'$h^{-1}~Mpc$', fontsize=12)\n",
    "ax_3d.set_ylabel(r'$h^{-1}~Mpc$', fontsize=12)\n",
    "ax_3d.set_zlabel(r'$h^{-1}~Mpc$', fontsize=12)\n",
    "ax_3d.set_title(r'$R_s = 1.3~h^{-1}~Mpc$ (Y-X)', fontsize=20)\n",
    "\n",
    "# Place the legend outside the plot\n",
    "ax_3d.legend(bbox_to_anchor=(1.15, 0.8), fontsize=8, markerscale=70, ncol=1)\n",
    "\n",
    "# Set the viewing angle (elevation, azimuth)\n",
    "# ax_3d.view_init(elev=20)\n",
    "\n",
    "plt.show()\n"
   ]
  },
  {
   "cell_type": "code",
   "execution_count": null,
   "id": "68d65a7b",
   "metadata": {},
   "outputs": [],
   "source": [
    "labels = ['Void', 'Sheet', 'Filament', 'Cluster']\n",
    "env_pos_all_13 = [env_pos_13_4, env_pos_13_5, env_pos_13_6, env_pos_13_7, env_pos_13_8]\n",
    "d_scales_13 = [d_field_13_4, d_field_13_5, d_field_13_6, d_field_13_7, d_field_13_8]\n",
    "slice_num = np.array([236, 246, 256, 266, 276]) * 100 / 512\n",
    "color = ['#1f77b4', '#ff7f0e', '#2ca02c', '#d62728']\n",
    "\n",
    "num_slices = len(env_pos_all_13)\n",
    "\n",
    "fig = plt.figure(figsize=(10, 7), dpi=400)\n",
    "ax_3d = fig.add_subplot(111, projection='3d')\n",
    "\n",
    "for idx, ev_all_pos in enumerate(env_pos_all_13):\n",
    "    for i, label in enumerate(labels):\n",
    "        z_coord = slice_num[idx]  # Adjust the z-coordinate for each slice\n",
    "        ax_3d.scatter(ev_all_pos[i][:, 0], ev_all_pos[i][:, 1], z_coord, s=0.02, alpha=0.3, color = color[i], label=f'{label} - Slice {idx+1}')\n",
    "\n",
    "ax_3d.set_xlabel(r'$h^{-1}~Mpc$', fontsize=12)\n",
    "ax_3d.set_ylabel(r'$h^{-1}~Mpc$', fontsize=12)\n",
    "ax_3d.set_zlabel(r'$h^{-1}~Mpc$', fontsize=12)\n",
    "ax_3d.set_title(r'$R_s = 1.3~h^{-1}~Mpc$ (X-Y)', fontsize=20)\n",
    "\n",
    "# Place the legend outside the plot\n",
    "plt.legend(bbox_to_anchor=(1.15, 0.8), fontsize=8, markerscale=70, ncol=1)\n",
    "\n",
    "# Set the viewing angle (elevation, azimuth)\n",
    "# ax_3d.view_init(elev=20)\n",
    "\n",
    "plt.show()\n"
   ]
  },
  {
   "cell_type": "code",
   "execution_count": null,
   "id": "9bcdedcb",
   "metadata": {},
   "outputs": [],
   "source": [
    "labels = ['Void', 'Sheet', 'Filament', 'Cluster']\n",
    "env_pos_all_13 = [env_pos_13_4, env_pos_13_5, env_pos_13_6, env_pos_13_7, env_pos_13_8]\n",
    "d_scales_13 = [d_field_13_4, d_field_13_5, d_field_13_6, d_field_13_7, d_field_13_8]\n",
    "slice_num = np.array([236, 246, 256, 266, 276]) * 100 / 512\n",
    "color = ['#1f77b4', '#ff7f0e', '#2ca02c', '#d62728']\n",
    "\n",
    "num_slices = len(env_pos_all_13)\n",
    "\n",
    "fig = plt.figure(figsize=(10, 7), dpi=400)\n",
    "ax_3d = fig.add_subplot(111, projection='3d')\n",
    "\n",
    "for idx, ev_all_pos in enumerate(env_pos_all_13):\n",
    "    for i, label in enumerate(labels):\n",
    "        z_coord = slice_num[idx]  # Adjust the z-coordinate for each slice\n",
    "        ax_3d.scatter(ev_all_pos[i][:, 1], ev_all_pos[i][:, 0], z_coord, s=0.02, alpha=0.3, color = color[i], label=f'{label} - Slice {idx+1}')\n",
    "\n",
    "ax_3d.set_xlabel(r'$h^{-1}~Mpc$', fontsize=12)\n",
    "ax_3d.set_ylabel(r'$h^{-1}~Mpc$', fontsize=12)\n",
    "ax_3d.set_zlabel(r'$h^{-1}~Mpc$', fontsize=12)\n",
    "ax_3d.set_title(r'$R_s = 1.3~h^{-1}~Mpc$ (Y-X)', fontsize=20)\n",
    "\n",
    "# Place the legend outside the plot\n",
    "plt.legend(bbox_to_anchor=(1.15, 0.8), fontsize=8, markerscale=70, ncol=1)\n",
    "\n",
    "# Set the viewing angle (elevation, azimuth)\n",
    "# ax_3d.view_init(elev=20)\n",
    "\n",
    "plt.show()\n"
   ]
  },
  {
   "cell_type": "code",
   "execution_count": null,
   "id": "97e538fa",
   "metadata": {},
   "outputs": [],
   "source": [
    "import numpy as np\n",
    "import matplotlib.pyplot as plt\n",
    "from mpl_toolkits.mplot3d import Axes3D\n",
    "from matplotlib import gridspec\n",
    "\n",
    "labels = ['Void', 'Sheet', 'Filament', 'Cluster']\n",
    "env_pos_all_13 = [env_pos_13_4, env_pos_13_5, env_pos_13_6, env_pos_13_7, env_pos_13_8]\n",
    "d_scales_13 = [d_field_13_4, d_field_13_5, d_field_13_6, d_field_13_7, d_field_13_8]\n",
    "slice_num = np.array([236, 246, 256, 266, 276]) * 100 / 512\n",
    "\n",
    "num_slices = len(env_pos_all_13)\n",
    "\n",
    "fig = plt.figure(figsize=(10, 7), dpi=400)\n",
    "ax_3d = fig.add_subplot(111, projection='3d')\n",
    "\n",
    "# Plot density field surface\n",
    "x_density, y_density = np.meshgrid(np.linspace(0, 100, d_scales_13[0].shape[0]), np.linspace(0, 100, d_scales_13[0].shape[1]))\n",
    "for idx, d_scale in enumerate(d_scales_13):\n",
    "    z_coord = slice_num[idx]  # Adjust the z-coordinate for each slice\n",
    "    ax_3d.plot_surface(x_density, y_density, z_coord * np.ones_like(d_scale), facecolors=plt.cm.viridis(d_scale),\n",
    "                       alpha=0.7, rstride=5, cstride=5)\n",
    "\n",
    "# # Plot scatter points\n",
    "# for idx, ev_all_pos in enumerate(env_pos_all_13):\n",
    "#     for i, label in enumerate(labels):\n",
    "#         z_coord = slice_num[idx]  # Adjust the z-coordinate for each slice\n",
    "#         ax_3d.scatter(ev_all_pos[i][:, 0], ev_all_pos[i][:, 1], z_coord, s=0.02, alpha=0.4, label=f'{label} - Slice {idx+1}')\n",
    "\n",
    "ax_3d.set_xlabel(r'$h^{-1}~Mpc$', fontsize=12)\n",
    "ax_3d.set_ylabel(r'$h^{-1}~Mpc$', fontsize=12)\n",
    "ax_3d.set_zlabel(r'$h^{-1}~Mpc$', fontsize=12)\n",
    "ax_3d.set_title(r'$R_s = 1.3~h^{-1}~Mpc$ (X-Y)', fontsize=20)\n",
    "\n",
    "# Place the legend outside the plot\n",
    "# ax_3d.legend(bbox_to_anchor=(1.05, 0.5), fontsize=8, markerscale=7.0, ncol=1)\n",
    "\n",
    "# Set the viewing angle (elevation, azimuth)\n",
    "# ax_3d.view_init(elev=20)\n",
    "\n",
    "plt.show()\n"
   ]
  },
  {
   "cell_type": "code",
   "execution_count": null,
   "id": "89d3a09b",
   "metadata": {},
   "outputs": [],
   "source": [
    "labels = ['Void', 'Sheet', 'Filament', 'Cluster']\n",
    "env_pos_all_13 = [env_pos_13_4, env_pos_13_5, env_pos_13_6, env_pos_13_7, env_pos_13_8]\n",
    "d_scales_13 = [d_field_13_4, d_field_13_5, d_field_13_6, d_field_13_7, d_field_13_8]\n",
    "slice_num = np.array([236, 246, 256, 266, 276]) * 100 / 512\n",
    "\n",
    "num_slices = len(env_pos_all_13)\n",
    "\n",
    "fig = plt.figure(figsize=(10, 7), dpi=400)\n",
    "ax_3d = fig.add_subplot(111, projection='3d')\n",
    "\n",
    "# Plot density field surface\n",
    "x_density, y_density = np.meshgrid(np.linspace(0, 100, d_scales_13[0].shape[0]), np.linspace(0, 100, d_scales_13[0].shape[1]))\n",
    "for idx, d_scale in enumerate(d_scales_13):\n",
    "    z_coord = slice_num[idx]  # Adjust the z-coordinate for each slice\n",
    "    ax_3d.plot_surface(y_density, x_density, z_coord * np.ones_like(d_scale), facecolors=plt.cm.viridis(d_scale), \n",
    "                       alpha=0.7, rstride=5, cstride=5)\n",
    "\n",
    "ax_3d.set_xlabel(r'$h^{-1}~Mpc$', fontsize=12)\n",
    "ax_3d.set_ylabel(r'$h^{-1}~Mpc$', fontsize=12)\n",
    "ax_3d.set_zlabel(r'$h^{-1}~Mpc$', fontsize=12)\n",
    "ax_3d.set_title(r'$R_s = 1.3~h^{-1}~Mpc$ (Y-X)', fontsize=15)\n",
    "\n",
    "# Place the legend outside the plot\n",
    "# ax_3d.legend(bbox_to_anchor=(1.05, 0.5), fontsize=8, markerscale=7.0, ncol=1)\n",
    "\n",
    "# Set the viewing angle (elevation, azimuth)\n",
    "# ax_3d.view_init(elev=20)\n",
    "\n",
    "plt.show()\n"
   ]
  },
  {
   "cell_type": "markdown",
   "id": "e70cf79f",
   "metadata": {},
   "source": [
    "### Extra/miscelleneous plots"
   ]
  },
  {
   "cell_type": "code",
   "execution_count": null,
   "id": "3660a0ab",
   "metadata": {},
   "outputs": [],
   "source": [
    "fig, ax = plt.subplots(6, 2, figsize = (10, 15), dpi = 150)\n",
    "\n",
    "ax = ax.flatten()\n",
    "\n",
    "for i in range(len(classifications)):\n",
    "    ax[i].hist(classifications[i].flatten(), bins=[-0.5, 0.5, 1.5, 2.5, 3.5], density = True, edgecolor='black', align='mid', color='lightblue')\n",
    "    ax[i].set_title(f'Smoothing scale $R_s = {sm_scales[i]}$'+'$~h^{-1} Mpc$', fontsize = 13)\n",
    "    ax[i].set_xticks(range(4), labels)\n",
    "    ax[i].grid(alpha = 0.5)\n",
    "\n",
    "fig.tight_layout()\n",
    "plt.show()"
   ]
  },
  {
   "cell_type": "code",
   "execution_count": null,
   "id": "ea6a454d",
   "metadata": {},
   "outputs": [],
   "source": [
    "import plotly.graph_objects as go\n",
    "\n",
    "# Sample 3D data\n",
    "x_values = [1, 2, 3, 4, 5]\n",
    "y_values = [10, 15, 13, 17, 21]\n",
    "z_values = [5, 8, 10, 12, 15]\n",
    "\n",
    "# Create a trace (scatter plot in 3D)\n",
    "trace = go.Scatter3d(x=x_values, y=y_values, z=z_values, mode='markers', marker=dict(size=10, color='blue'))\n",
    "\n",
    "# Create layout\n",
    "layout = go.Layout(title='Simple 3D Scatter Plot', scene=dict(xaxis=dict(title='X-axis'), yaxis=dict(title='Y-axis'), zaxis=dict(title='Z-axis')))\n",
    "\n",
    "# Create figure\n",
    "fig = go.Figure(data=[trace], layout=layout)\n",
    "\n",
    "# Show the plot\n",
    "fig.show()"
   ]
  }
 ],
 "metadata": {
  "kernelspec": {
   "display_name": "Python 3 (ipykernel)",
   "language": "python",
   "name": "python3"
  },
  "language_info": {
   "codemirror_mode": {
    "name": "ipython",
    "version": 3
   },
   "file_extension": ".py",
   "mimetype": "text/x-python",
   "name": "python",
   "nbconvert_exporter": "python",
   "pygments_lexer": "ipython3",
   "version": "3.10.12"
  }
 },
 "nbformat": 4,
 "nbformat_minor": 5
}
