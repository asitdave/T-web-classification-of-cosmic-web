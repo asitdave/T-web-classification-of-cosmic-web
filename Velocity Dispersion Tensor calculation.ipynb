{
 "cells": [
  {
   "cell_type": "code",
   "execution_count": 1,
   "id": "2a6d2230",
   "metadata": {},
   "outputs": [],
   "source": [
    "import numpy as np\n",
    "import matplotlib.pyplot as plt\n",
    "from tqdm import tqdm\n",
    "import numba\n",
    "from numba import jit, prange\n",
    "import scipy.stats as stats\n",
    "import pickle\n",
    "from mpl_toolkits.mplot3d import Axes3D\n",
    "# @jit(nopython=True, parallel=True)"
   ]
  },
  {
   "cell_type": "code",
   "execution_count": 2,
   "id": "9ec33c49",
   "metadata": {},
   "outputs": [],
   "source": [
    "# Set default parameters\n",
    "plt.rcParams.update({\n",
    "    'figure.dpi': 150,  # Set the default DPI to 150\n",
    "    'axes.grid': False,       # Display grid on axes\n",
    "    'xtick.top': True,       # Display ticks on the top of the x-axis\n",
    "    'xtick.bottom': True,    # Display ticks on the bottom of the x-axis\n",
    "    'ytick.left': True,      # Display ticks on the left of the y-axis\n",
    "    'ytick.right': True,     # Display ticks on the right of the y-axis\n",
    "    'xtick.direction': 'in',  # Set the direction of x-axis ticks to 'in'\n",
    "    'ytick.direction': 'in',  # Set the direction of y-axis ticks to 'in'\n",
    "    'font.size': 8           # Set the font size\n",
    "})"
   ]
  },
  {
   "cell_type": "code",
   "execution_count": 3,
   "id": "cbf00926",
   "metadata": {},
   "outputs": [],
   "source": [
    "# # List of some commonly used rcParams settings\n",
    "# rc_params = [\n",
    "#     'lines.linewidth',        # Line width\n",
    "#     'lines.markersize',       # Marker size\n",
    "#     'axes.grid',              # Display grid on axes\n",
    "#     'axes.titlesize',         # Title font size\n",
    "#     'axes.labelsize',         # Axis label font size\n",
    "#     'xtick.labelsize',        # X-axis tick label font size\n",
    "#     'ytick.labelsize',        # Y-axis tick label font size\n",
    "#     'xtick.direction',        # X-axis tick direction ('in', 'out', or 'inout')\n",
    "#     'ytick.direction',        # Y-axis tick direction ('in', 'out', or 'inout')\n",
    "#     'xtick.top',              # Display ticks on the top of the x-axis\n",
    "#     'xtick.bottom',           # Display ticks on the bottom of the x-axis\n",
    "#     'ytick.left',             # Display ticks on the left of the y-axis\n",
    "#     'ytick.right',            # Display ticks on the right of the y-axis\n",
    "#     'figure.figsize',         # Figure size (width, height) in inches\n",
    "#     'figure.dpi',             # Dots per inch (resolution)\n",
    "#     'font.size',              # Font size for text\n",
    "#     'font.family',            # Font family for text\n",
    "#     'legend.fontsize',        # Legend font size\n",
    "#     'legend.loc',             # Legend location ('upper right', 'lower left', etc.)\n",
    "# ]"
   ]
  },
  {
   "cell_type": "code",
   "execution_count": 4,
   "id": "5d8050ed",
   "metadata": {},
   "outputs": [],
   "source": [
    "rho054 = np.load(\"/vol/calvin/data/adave/Internship/SmoothDensityField054.npy\")"
   ]
  },
  {
   "cell_type": "markdown",
   "id": "c619a93e",
   "metadata": {},
   "source": [
    "### Code to calculate the velocity dispersion tensor"
   ]
  },
  {
   "cell_type": "code",
   "execution_count": 5,
   "id": "32e811db",
   "metadata": {},
   "outputs": [],
   "source": [
    "eigenvects054 = np.load(\"/vol/calvin/data/adave/Internship/eignvects_tidalshear054.npy\")"
   ]
  },
  {
   "cell_type": "code",
   "execution_count": 6,
   "id": "26147210",
   "metadata": {},
   "outputs": [
    {
     "data": {
      "text/plain": [
       "(512, 512, 512, 3, 3)"
      ]
     },
     "execution_count": 6,
     "metadata": {},
     "output_type": "execute_result"
    }
   ],
   "source": [
    "eigenvects054.shape"
   ]
  },
  {
   "cell_type": "code",
   "execution_count": 7,
   "id": "c757d335",
   "metadata": {},
   "outputs": [],
   "source": [
    "eigenvals054 = np.load(\"/vol/calvin/data/adave/Internship/eignvals_tidalshear054.npy\")"
   ]
  },
  {
   "cell_type": "code",
   "execution_count": 8,
   "id": "c6ef1505",
   "metadata": {},
   "outputs": [
    {
     "data": {
      "text/plain": [
       "(512, 512, 512, 3)"
      ]
     },
     "execution_count": 8,
     "metadata": {},
     "output_type": "execute_result"
    }
   ],
   "source": [
    "eigenvals054.shape"
   ]
  },
  {
   "cell_type": "code",
   "execution_count": 10,
   "id": "2b385254",
   "metadata": {},
   "outputs": [
    {
     "data": {
      "text/plain": [
       "array([ 0.14456867, -0.17146937, -0.71799612])"
      ]
     },
     "execution_count": 10,
     "metadata": {},
     "output_type": "execute_result"
    }
   ],
   "source": [
    "eigenvals054[0,0,0]"
   ]
  },
  {
   "cell_type": "code",
   "execution_count": 11,
   "id": "00ab317f",
   "metadata": {},
   "outputs": [],
   "source": [
    "class_54 = np.load(\"/vol/calvin/data/adave/Internship/Classification_matrix054.npy\")"
   ]
  },
  {
   "cell_type": "code",
   "execution_count": 12,
   "id": "15d20569",
   "metadata": {},
   "outputs": [
    {
     "data": {
      "text/plain": [
       "(512, 512, 512)"
      ]
     },
     "execution_count": 12,
     "metadata": {},
     "output_type": "execute_result"
    }
   ],
   "source": [
    "class_54.shape"
   ]
  },
  {
   "cell_type": "code",
   "execution_count": 13,
   "id": "28ba92e5",
   "metadata": {},
   "outputs": [],
   "source": [
    "ids = np.load(\"/vol/calvin/data/adave/Internship/Particle_ids.npy\")"
   ]
  },
  {
   "cell_type": "code",
   "execution_count": 14,
   "id": "5fa3863f",
   "metadata": {},
   "outputs": [
    {
     "data": {
      "text/plain": [
       "(134217728,)"
      ]
     },
     "execution_count": 14,
     "metadata": {},
     "output_type": "execute_result"
    }
   ],
   "source": [
    "ids.shape"
   ]
  },
  {
   "cell_type": "code",
   "execution_count": 15,
   "id": "0529b7e7",
   "metadata": {},
   "outputs": [],
   "source": [
    "v_field = np.load(\"/vol/calvin/data/adave/Internship/Velocity_field.npy\")"
   ]
  },
  {
   "cell_type": "code",
   "execution_count": 16,
   "id": "9b85d01e",
   "metadata": {},
   "outputs": [
    {
     "data": {
      "text/plain": [
       "(134217728, 3)"
      ]
     },
     "execution_count": 16,
     "metadata": {},
     "output_type": "execute_result"
    }
   ],
   "source": [
    "v_field.shape"
   ]
  },
  {
   "cell_type": "code",
   "execution_count": 17,
   "id": "a7dbe48d",
   "metadata": {},
   "outputs": [],
   "source": [
    "pos = np.load(\"/vol/calvin/data/adave/Internship/Particle_position.npy\")"
   ]
  },
  {
   "cell_type": "code",
   "execution_count": 18,
   "id": "517fd821",
   "metadata": {},
   "outputs": [
    {
     "data": {
      "text/plain": [
       "(134217728, 3)"
      ]
     },
     "execution_count": 18,
     "metadata": {},
     "output_type": "execute_result"
    }
   ],
   "source": [
    "pos.shape"
   ]
  },
  {
   "cell_type": "code",
   "execution_count": 19,
   "id": "1192b340",
   "metadata": {},
   "outputs": [],
   "source": [
    "box_size = 100 # h^-1 Mpc\n",
    "grid_size = 512\n",
    "\n",
    "voxel_size = box_size / grid_size"
   ]
  },
  {
   "cell_type": "code",
   "execution_count": 20,
   "id": "a5338cb1",
   "metadata": {},
   "outputs": [
    {
     "data": {
      "text/plain": [
       "array([-262.65454 ,  -25.674765,  111.3923  ], dtype=float32)"
      ]
     },
     "execution_count": 20,
     "metadata": {},
     "output_type": "execute_result"
    }
   ],
   "source": [
    "v_field[0]"
   ]
  },
  {
   "cell_type": "code",
   "execution_count": 21,
   "id": "a23ded7a",
   "metadata": {},
   "outputs": [
    {
     "data": {
      "text/plain": [
       "array([[-0.14504082,  0.41806231,  0.89676478],\n",
       "       [ 0.54710236, -0.72129622,  0.42474788],\n",
       "       [-0.82440413, -0.55222791,  0.12410548]])"
      ]
     },
     "execution_count": 21,
     "metadata": {},
     "output_type": "execute_result"
    }
   ],
   "source": [
    "eigenvects054[0, 1, 2]"
   ]
  },
  {
   "cell_type": "code",
   "execution_count": 18,
   "id": "77d92bfb",
   "metadata": {},
   "outputs": [
    {
     "data": {
      "text/plain": [
       "array([127.25467269, -77.86616464, 244.5362047 ])"
      ]
     },
     "execution_count": 18,
     "metadata": {},
     "output_type": "execute_result"
    }
   ],
   "source": [
    "np.dot(v_field[0], eigenvects054[0, 1, 2].T)"
   ]
  },
  {
   "cell_type": "code",
   "execution_count": 19,
   "id": "b9924cdf",
   "metadata": {},
   "outputs": [
    {
     "data": {
      "text/plain": [
       "array([[-0.47653563,  0.86793847, -0.13998789],\n",
       "       [-0.02167062,  0.14758519,  0.98881191],\n",
       "       [-0.87888803, -0.47423773,  0.05152083]])"
      ]
     },
     "execution_count": 19,
     "metadata": {},
     "output_type": "execute_result"
    }
   ],
   "source": [
    "eigenvects054[10, 10, 0]"
   ]
  },
  {
   "cell_type": "code",
   "execution_count": 20,
   "id": "cc76f445",
   "metadata": {},
   "outputs": [
    {
     "name": "stderr",
     "output_type": "stream",
     "text": [
      "100%|██████████| 134217728/134217728 [14:26<00:00, 154923.02it/s]\n"
     ]
    }
   ],
   "source": [
    "# Store the number of particles in each voxel\n",
    "voxel_particle_count = np.zeros((grid_size, grid_size, grid_size))\n",
    "\n",
    "# Store the decomposed velocity fields\n",
    "velocity_decomposition = np.zeros((grid_size**3, 3))\n",
    "\n",
    "# Store all the particle index for respecitve voxels\n",
    "voxel_info = {}\n",
    "\n",
    "for i in tqdm(range(pos.shape[0])):   \n",
    "    # Determine voxel indices for the particle\n",
    "    voxel_indices = np.floor(pos[i] / voxel_size).astype(int)\n",
    "\n",
    "    # Increment particle count in the corresponding voxel\n",
    "#     voxel_particle_count[voxel_indices[0], voxel_indices[1], voxel_indices[2]] += 1\n",
    "    \n",
    "    # Initialize a list for the voxel if it doesn't exist in voxel_info\n",
    "    voxel_key = (voxel_indices[0], voxel_indices[1], voxel_indices[2])\n",
    "    if voxel_key not in voxel_info:\n",
    "        voxel_info[voxel_key] = []\n",
    "\n",
    "    # Append particle information to the list for the corresponding voxel\n",
    "    voxel_info[voxel_key].append(i) # For example, particle indice xyz is in voxel (0, 0, 0)\n",
    "    \n",
    "    # Decompose the velocity vectors in the direction of the eigenvectors\n",
    "    velocity_decomposition[i] = np.dot(v_field[i], eigenvects054[voxel_indices[0], voxel_indices[1], voxel_indices[2]].T)"
   ]
  },
  {
   "cell_type": "code",
   "execution_count": 17,
   "id": "6fbc7508",
   "metadata": {},
   "outputs": [],
   "source": [
    "file_path = 'voxel_info_054.pkl'\n",
    "\n",
    "# Save the dictionary to a pickle file\n",
    "with open(file_path, 'wb') as pickle_file:\n",
    "    pickle.dump(voxel_info, pickle_file)"
   ]
  },
  {
   "cell_type": "code",
   "execution_count": 18,
   "id": "52d184ac",
   "metadata": {},
   "outputs": [],
   "source": [
    "def extract_vel_components(voxel_indices):\n",
    "    # Extract all the particle indices present in a given voxel\n",
    "    particle_indices = np.array(voxel_info[voxel_indices])\n",
    "    \n",
    "    # Determine the decomposed velocity components for all the particles\n",
    "    velocities = velocity_decomposition[particle_indices][:, 0:3]\n",
    "                           \n",
    "    return velocities\n",
    "\n",
    "def calculate_tensor_components(all_velocities):\n",
    "    # Find the mean of the velocity components in a given voxel\n",
    "    mean_velocities = np.mean(all_velocities, axis=0)\n",
    "                           \n",
    "    # Find the mean of the product of velocity components in a voxel\n",
    "    mean_vel_products = np.mean(all_velocities[:, :, np.newaxis] * all_velocities[:, np.newaxis, :], axis=0)\n",
    "    \n",
    "    # Determine the dispersion tensor using the above results\n",
    "    dispersion_tensor = mean_vel_products - np.outer(mean_velocities, mean_velocities)\n",
    "                           \n",
    "    return dispersion_tensor"
   ]
  },
  {
   "cell_type": "code",
   "execution_count": 19,
   "id": "f4621781",
   "metadata": {},
   "outputs": [],
   "source": [
    "voxel_keys = list(voxel_info.keys())"
   ]
  },
  {
   "cell_type": "code",
   "execution_count": 20,
   "id": "d16a9c07",
   "metadata": {},
   "outputs": [
    {
     "name": "stderr",
     "output_type": "stream",
     "text": [
      "100%|██████████| 512/512 [14:44<00:00,  1.73s/it]\n"
     ]
    }
   ],
   "source": [
    "velocity_dispersion_tensor = np.zeros((grid_size, grid_size, grid_size, 3, 3))\n",
    "\n",
    "for i in tqdm(range(grid_size)):\n",
    "    for j in range(grid_size):\n",
    "        for k in range(grid_size):\n",
    "            \n",
    "            voxel_indices = (i, j, k)\n",
    "            \n",
    "            try:\n",
    "                # Find all the velocity components of all the particles in that voxel\n",
    "                all_velocities = extract_vel_components(voxel_indices)\n",
    "                \n",
    "                # Calculate the velocity dispersion tensor using the expectation values of v_i and (v_i * v_j)\n",
    "                dispersion_tensor = calculate_tensor_components(all_velocities)\n",
    "                \n",
    "                # Assign the calculated velocity dispersion to the corresponding voxel\n",
    "                velocity_dispersion_tensor[voxel_indices + (Ellipsis,)] = dispersion_tensor\n",
    "            \n",
    "            except:\n",
    "                pass # All the voxel indices that does not contain a particle"
   ]
  },
  {
   "cell_type": "code",
   "execution_count": 21,
   "id": "bcd01e8b",
   "metadata": {},
   "outputs": [],
   "source": [
    "np.save(\"/vol/calvin/data/adave/Internship/Velocity_dispersion_tensor_054.npy\", velocity_dispersion_tensor)"
   ]
  },
  {
   "cell_type": "code",
   "execution_count": 35,
   "id": "e1c4cd98",
   "metadata": {},
   "outputs": [
    {
     "name": "stdout",
     "output_type": "stream",
     "text": [
      "The number of voxels containing only one particle is: 16088895\n"
     ]
    }
   ],
   "source": [
    "# Count the keys with a value containing only one element\n",
    "count = sum(1 for value in voxel_info.values() if len(value) == 1)\n",
    "\n",
    "print(f'The number of voxels containing only one particle is: {count}')\n"
   ]
  },
  {
   "cell_type": "markdown",
   "id": "8099e5a2",
   "metadata": {},
   "source": [
    "### After velocity dispersion calculation"
   ]
  },
  {
   "cell_type": "code",
   "execution_count": 19,
   "id": "c67739ec",
   "metadata": {},
   "outputs": [],
   "source": [
    "v_disp = np.load(\"/vol/calvin/data/adave/Internship/Velocity_dispersion_tensor_054.npy\")"
   ]
  },
  {
   "cell_type": "code",
   "execution_count": 20,
   "id": "19bb8c56",
   "metadata": {},
   "outputs": [],
   "source": [
    "voxel_keys = np.load(\"/vol/calvin/data/adave/Internship/Voxel_keys.npy\")"
   ]
  },
  {
   "cell_type": "code",
   "execution_count": 21,
   "id": "98abc113",
   "metadata": {},
   "outputs": [],
   "source": [
    "# Load the dictionary from the pickle file\n",
    "with open('voxel_info_054.pkl', 'rb') as pickle_file:\n",
    "    voxel_info = pickle.load(pickle_file)"
   ]
  },
  {
   "cell_type": "code",
   "execution_count": 16,
   "id": "af4f3f83",
   "metadata": {},
   "outputs": [
    {
     "name": "stderr",
     "output_type": "stream",
     "text": [
      "100%|██████████| 26564815/26564815 [01:05<00:00, 403993.10it/s]\n"
     ]
    }
   ],
   "source": [
    "velocity_dispersion_class = {\n",
    "    'void': [],\n",
    "    'sheet': [],\n",
    "    'filament': [],\n",
    "    'node': []\n",
    "}\n",
    "\n",
    "for voxel_indice in tqdm(voxel_keys):\n",
    "    i, j, k = voxel_indice\n",
    "    \n",
    "    if class_54[i, j, k] == 0 and len(voxel_info[i, j, k]) > 1:\n",
    "        velocity_dispersion_class['void'].append(v_disp[i, j, k])\n",
    "\n",
    "    elif class_54[i, j, k] == 1 and len(voxel_info[i, j, k]) > 1:\n",
    "        velocity_dispersion_class['sheet'].append(v_disp[i, j, k])\n",
    "\n",
    "    elif class_54[i, j, k] == 2 and len(voxel_info[i, j, k]) > 1:\n",
    "        velocity_dispersion_class['filament'].append(v_disp[i, j, k])\n",
    "\n",
    "    elif class_54[i, j, k] == 3 and len(voxel_info[i, j, k]) > 1:\n",
    "        velocity_dispersion_class['node'].append(v_disp[i, j, k])\n"
   ]
  },
  {
   "cell_type": "code",
   "execution_count": 13,
   "id": "648b08e6",
   "metadata": {},
   "outputs": [],
   "source": [
    "voxel_vals = list(voxel_info.values())"
   ]
  },
  {
   "cell_type": "code",
   "execution_count": 32,
   "id": "239f9cd2",
   "metadata": {},
   "outputs": [],
   "source": [
    "x = sum(len(list(v_val)) for v_val in voxel_info.values())"
   ]
  },
  {
   "cell_type": "code",
   "execution_count": 33,
   "id": "6f35b414",
   "metadata": {},
   "outputs": [
    {
     "data": {
      "text/plain": [
       "134217728"
      ]
     },
     "execution_count": 33,
     "metadata": {},
     "output_type": "execute_result"
    }
   ],
   "source": [
    "x"
   ]
  },
  {
   "cell_type": "code",
   "execution_count": 54,
   "id": "02e09f87",
   "metadata": {},
   "outputs": [
    {
     "name": "stderr",
     "output_type": "stream",
     "text": [
      "100%|██████████| 26564815/26564815 [05:06<00:00, 86669.39it/s]\n"
     ]
    }
   ],
   "source": [
    "voxel_vel = np.zeros((512, 512, 512, 3))\n",
    "voxel_pos = np.zeros((512, 512, 512, 3))\n",
    "\n",
    "box_size = 100\n",
    "grid_size = 512\n",
    "\n",
    "voxel_size = box_size / grid_size\n",
    "\n",
    "for keys in tqdm(voxel_keys):\n",
    "    i, j, k = keys\n",
    "    \n",
    "#     all_ind = voxel_info[i, j, k]\n",
    "#     mean_vox_vel = np.mean(v_field[all_ind], axis = 0)\n",
    "    \n",
    "#     voxel_vel[i, j, k] = mean_vox_vel\n",
    "    voxel_pos[i, j, k] = [i*voxel_size, j * voxel_size, k*voxel_size]"
   ]
  },
  {
   "cell_type": "code",
   "execution_count": 21,
   "id": "b663b41c",
   "metadata": {},
   "outputs": [],
   "source": [
    "np.save(\"/vol/calvin/data/adave/Internship/voxel_mean_vel.npy\", voxel_vel)"
   ]
  },
  {
   "cell_type": "code",
   "execution_count": 55,
   "id": "c818c9fe",
   "metadata": {},
   "outputs": [],
   "source": [
    "np.save(\"/vol/calvin/data/adave/Internship/voxel_mean_pos.npy\", voxel_pos)"
   ]
  },
  {
   "cell_type": "code",
   "execution_count": 52,
   "id": "465e2a6d",
   "metadata": {},
   "outputs": [],
   "source": [
    "voxel_pos = np.load('/vol/calvin/data/adave/Internship/voxel_mean_pos.npy')"
   ]
  },
  {
   "cell_type": "code",
   "execution_count": 53,
   "id": "93223c9e",
   "metadata": {},
   "outputs": [
    {
     "data": {
      "text/plain": [
       "array([0., 0., 0.])"
      ]
     },
     "execution_count": 53,
     "metadata": {},
     "output_type": "execute_result"
    }
   ],
   "source": [
    "voxel_pos[0, 3, 0]"
   ]
  }
 ],
 "metadata": {
  "kernelspec": {
   "display_name": "Python 3 (ipykernel)",
   "language": "python",
   "name": "python3"
  },
  "language_info": {
   "codemirror_mode": {
    "name": "ipython",
    "version": 3
   },
   "file_extension": ".py",
   "mimetype": "text/x-python",
   "name": "python",
   "nbconvert_exporter": "python",
   "pygments_lexer": "ipython3",
   "version": "3.10.12"
  }
 },
 "nbformat": 4,
 "nbformat_minor": 5
}
